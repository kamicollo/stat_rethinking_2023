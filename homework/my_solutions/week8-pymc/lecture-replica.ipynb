{
 "cells": [
  {
   "cell_type": "code",
   "execution_count": 1,
   "metadata": {},
   "outputs": [
    {
     "name": "stderr",
     "output_type": "stream",
     "text": [
      "/home/aurimas/micromamba/envs/pymc5/lib/python3.11/site-packages/pymc/sampling/jax.py:39: UserWarning: This module is experimental.\n",
      "  warnings.warn(\"This module is experimental.\")\n"
     ]
    },
    {
     "data": {
      "text/plain": [
       "'5.0.2'"
      ]
     },
     "execution_count": 1,
     "metadata": {},
     "output_type": "execute_result"
    }
   ],
   "source": [
    "import pymc as pm\n",
    "import pandas as pd\n",
    "import numpy as np\n",
    "import arviz as az\n",
    "from matplotlib import pyplot as plt\n",
    "from pymc import sampling_jax\n",
    "import altair as alt\n",
    "alt.renderers.enable('mimetype')\n",
    "pm.__version__"
   ]
  },
  {
   "cell_type": "markdown",
   "metadata": {},
   "source": [
    "# Dyad sharing model"
   ]
  },
  {
   "cell_type": "code",
   "execution_count": 3,
   "metadata": {},
   "outputs": [],
   "source": [
    "kl_households = pd.read_csv(\"../../../datasets/kl_households.csv\")\n",
    "kl_dyads = pd.read_csv(\"../../../datasets/kl_dyads.csv\")"
   ]
  },
  {
   "cell_type": "code",
   "execution_count": 11,
   "metadata": {},
   "outputs": [
    {
     "data": {
      "text/html": [
       "<div>\n",
       "<style scoped>\n",
       "    .dataframe tbody tr th:only-of-type {\n",
       "        vertical-align: middle;\n",
       "    }\n",
       "\n",
       "    .dataframe tbody tr th {\n",
       "        vertical-align: top;\n",
       "    }\n",
       "\n",
       "    .dataframe thead th {\n",
       "        text-align: right;\n",
       "    }\n",
       "</style>\n",
       "<table border=\"1\" class=\"dataframe\">\n",
       "  <thead>\n",
       "    <tr style=\"text-align: right;\">\n",
       "      <th></th>\n",
       "      <th>hidA</th>\n",
       "      <th>hidB</th>\n",
       "      <th>did</th>\n",
       "      <th>giftsAB</th>\n",
       "      <th>giftsBA</th>\n",
       "      <th>offset</th>\n",
       "      <th>drel1</th>\n",
       "      <th>drel2</th>\n",
       "      <th>drel3</th>\n",
       "      <th>drel4</th>\n",
       "      <th>dlndist</th>\n",
       "      <th>dass</th>\n",
       "      <th>d0125</th>\n",
       "    </tr>\n",
       "  </thead>\n",
       "  <tbody>\n",
       "    <tr>\n",
       "      <th>0</th>\n",
       "      <td>1</td>\n",
       "      <td>2</td>\n",
       "      <td>1</td>\n",
       "      <td>0</td>\n",
       "      <td>4</td>\n",
       "      <td>0.000</td>\n",
       "      <td>0</td>\n",
       "      <td>0</td>\n",
       "      <td>1</td>\n",
       "      <td>0</td>\n",
       "      <td>-2.790</td>\n",
       "      <td>0.000</td>\n",
       "      <td>0</td>\n",
       "    </tr>\n",
       "    <tr>\n",
       "      <th>1</th>\n",
       "      <td>1</td>\n",
       "      <td>3</td>\n",
       "      <td>2</td>\n",
       "      <td>6</td>\n",
       "      <td>31</td>\n",
       "      <td>-0.003</td>\n",
       "      <td>0</td>\n",
       "      <td>1</td>\n",
       "      <td>0</td>\n",
       "      <td>0</td>\n",
       "      <td>-2.817</td>\n",
       "      <td>0.044</td>\n",
       "      <td>0</td>\n",
       "    </tr>\n",
       "    <tr>\n",
       "      <th>2</th>\n",
       "      <td>1</td>\n",
       "      <td>4</td>\n",
       "      <td>3</td>\n",
       "      <td>2</td>\n",
       "      <td>5</td>\n",
       "      <td>-0.019</td>\n",
       "      <td>0</td>\n",
       "      <td>1</td>\n",
       "      <td>0</td>\n",
       "      <td>0</td>\n",
       "      <td>-1.886</td>\n",
       "      <td>0.025</td>\n",
       "      <td>0</td>\n",
       "    </tr>\n",
       "    <tr>\n",
       "      <th>3</th>\n",
       "      <td>1</td>\n",
       "      <td>5</td>\n",
       "      <td>4</td>\n",
       "      <td>4</td>\n",
       "      <td>2</td>\n",
       "      <td>0.000</td>\n",
       "      <td>0</td>\n",
       "      <td>1</td>\n",
       "      <td>0</td>\n",
       "      <td>0</td>\n",
       "      <td>-1.892</td>\n",
       "      <td>0.011</td>\n",
       "      <td>0</td>\n",
       "    </tr>\n",
       "    <tr>\n",
       "      <th>4</th>\n",
       "      <td>1</td>\n",
       "      <td>6</td>\n",
       "      <td>5</td>\n",
       "      <td>8</td>\n",
       "      <td>2</td>\n",
       "      <td>-0.003</td>\n",
       "      <td>1</td>\n",
       "      <td>0</td>\n",
       "      <td>0</td>\n",
       "      <td>0</td>\n",
       "      <td>-3.499</td>\n",
       "      <td>0.022</td>\n",
       "      <td>0</td>\n",
       "    </tr>\n",
       "  </tbody>\n",
       "</table>\n",
       "</div>"
      ],
      "text/plain": [
       "   hidA  hidB  did  giftsAB  giftsBA  offset  drel1  drel2  drel3  drel4  \\\n",
       "0     1     2    1        0        4   0.000      0      0      1      0   \n",
       "1     1     3    2        6       31  -0.003      0      1      0      0   \n",
       "2     1     4    3        2        5  -0.019      0      1      0      0   \n",
       "3     1     5    4        4        2   0.000      0      1      0      0   \n",
       "4     1     6    5        8        2  -0.003      1      0      0      0   \n",
       "\n",
       "   dlndist   dass  d0125  \n",
       "0   -2.790  0.000      0  \n",
       "1   -2.817  0.044      0  \n",
       "2   -1.886  0.025      0  \n",
       "3   -1.892  0.011      0  \n",
       "4   -3.499  0.022      0  "
      ]
     },
     "execution_count": 11,
     "metadata": {},
     "output_type": "execute_result"
    }
   ],
   "source": [
    "kl_dyads.head()"
   ]
  },
  {
   "cell_type": "code",
   "execution_count": 17,
   "metadata": {},
   "outputs": [],
   "source": [
    "giver_idx, givers = pd.factorize(kl_dyads['hidA'], sort=True)\n",
    "receiver_idx, receivers = pd.factorize(kl_dyads['hidB'], sort=True)\n",
    "giver_gifts = kl_dyads['giftsAB'].values\n",
    "receiver_gifts = kl_dyads['giftsBA'].values\n",
    "ties = kl_dyads.index.values"
   ]
  },
  {
   "cell_type": "code",
   "execution_count": 31,
   "metadata": {},
   "outputs": [
    {
     "data": {
      "image/svg+xml": "<?xml version=\"1.0\" encoding=\"UTF-8\" standalone=\"no\"?>\n<!DOCTYPE svg PUBLIC \"-//W3C//DTD SVG 1.1//EN\"\n \"http://www.w3.org/Graphics/SVG/1.1/DTD/svg11.dtd\">\n<!-- Generated by graphviz version 7.1.0 (20230122.1345)\n -->\n<!-- Pages: 1 -->\n<svg width=\"850pt\" height=\"452pt\"\n viewBox=\"0.00 0.00 849.62 451.88\" xmlns=\"http://www.w3.org/2000/svg\" xmlns:xlink=\"http://www.w3.org/1999/xlink\">\n<g id=\"graph0\" class=\"graph\" transform=\"scale(1 1) rotate(0) translate(4 447.88)\">\n<polygon fill=\"white\" stroke=\"none\" points=\"-4,4 -4,-447.88 845.62,-447.88 845.62,4 -4,4\"/>\n<g id=\"clust1\" class=\"cluster\">\n<title>cluster300</title>\n<path fill=\"none\" stroke=\"black\" d=\"M135.62,-8C135.62,-8 443.62,-8 443.62,-8 449.62,-8 455.62,-14 455.62,-20 455.62,-20 455.62,-198.95 455.62,-198.95 455.62,-204.95 449.62,-210.95 443.62,-210.95 443.62,-210.95 135.62,-210.95 135.62,-210.95 129.62,-210.95 123.62,-204.95 123.62,-198.95 123.62,-198.95 123.62,-20 123.62,-20 123.62,-14 129.62,-8 135.62,-8\"/>\n<text text-anchor=\"middle\" x=\"433.62\" y=\"-15.8\" font-family=\"Times,serif\" font-size=\"14.00\">300</text>\n</g>\n<g id=\"clust2\" class=\"cluster\">\n<title>clusterpair (2) x ties (300)</title>\n<path fill=\"none\" stroke=\"black\" d=\"M279.62,-321.93C279.62,-321.93 410.62,-321.93 410.62,-321.93 416.62,-321.93 422.62,-327.93 422.62,-333.93 422.62,-333.93 422.62,-423.88 422.62,-423.88 422.62,-429.88 416.62,-435.88 410.62,-435.88 410.62,-435.88 279.62,-435.88 279.62,-435.88 273.62,-435.88 267.62,-429.88 267.62,-423.88 267.62,-423.88 267.62,-333.93 267.62,-333.93 267.62,-327.93 273.62,-321.93 279.62,-321.93\"/>\n<text text-anchor=\"middle\" x=\"345.12\" y=\"-329.73\" font-family=\"Times,serif\" font-size=\"14.00\">pair (2) x ties (300)</text>\n</g>\n<g id=\"clust3\" class=\"cluster\">\n<title>cluster3</title>\n<path fill=\"none\" stroke=\"black\" d=\"M503.62,-321.93C503.62,-321.93 693.62,-321.93 693.62,-321.93 699.62,-321.93 705.62,-327.93 705.62,-333.93 705.62,-333.93 705.62,-423.88 705.62,-423.88 705.62,-429.88 699.62,-435.88 693.62,-435.88 693.62,-435.88 503.62,-435.88 503.62,-435.88 497.62,-435.88 491.62,-429.88 491.62,-423.88 491.62,-423.88 491.62,-333.93 491.62,-333.93 491.62,-327.93 497.62,-321.93 503.62,-321.93\"/>\n<text text-anchor=\"middle\" x=\"692.62\" y=\"-329.73\" font-family=\"Times,serif\" font-size=\"14.00\">3</text>\n</g>\n<g id=\"clust4\" class=\"cluster\">\n<title>cluster2 x 2</title>\n<path fill=\"none\" stroke=\"black\" d=\"M563.62,-218.95C563.62,-218.95 675.62,-218.95 675.62,-218.95 681.62,-218.95 687.62,-224.95 687.62,-230.95 687.62,-230.95 687.62,-298.95 687.62,-298.95 687.62,-304.95 681.62,-310.95 675.62,-310.95 675.62,-310.95 563.62,-310.95 563.62,-310.95 557.62,-310.95 551.62,-304.95 551.62,-298.95 551.62,-298.95 551.62,-230.95 551.62,-230.95 551.62,-224.95 557.62,-218.95 563.62,-218.95\"/>\n<text text-anchor=\"middle\" x=\"661.62\" y=\"-226.75\" font-family=\"Times,serif\" font-size=\"14.00\">2 x 2</text>\n</g>\n<g id=\"clust5\" class=\"cluster\">\n<title>cluster2</title>\n<path fill=\"none\" stroke=\"black\" d=\"M707.62,-218.95C707.62,-218.95 821.62,-218.95 821.62,-218.95 827.62,-218.95 833.62,-224.95 833.62,-230.95 833.62,-230.95 833.62,-298.95 833.62,-298.95 833.62,-304.95 827.62,-310.95 821.62,-310.95 821.62,-310.95 707.62,-310.95 707.62,-310.95 701.62,-310.95 695.62,-304.95 695.62,-298.95 695.62,-298.95 695.62,-230.95 695.62,-230.95 695.62,-224.95 701.62,-218.95 707.62,-218.95\"/>\n<text text-anchor=\"middle\" x=\"820.62\" y=\"-226.75\" font-family=\"Times,serif\" font-size=\"14.00\">2</text>\n</g>\n<g id=\"clust6\" class=\"cluster\">\n<title>clusterties (300)</title>\n<path fill=\"none\" stroke=\"black\" d=\"M265.62,-218.95C265.62,-218.95 531.62,-218.95 531.62,-218.95 537.62,-218.95 543.62,-224.95 543.62,-230.95 543.62,-230.95 543.62,-298.95 543.62,-298.95 543.62,-304.95 537.62,-310.95 531.62,-310.95 531.62,-310.95 265.62,-310.95 265.62,-310.95 259.62,-310.95 253.62,-304.95 253.62,-298.95 253.62,-298.95 253.62,-230.95 253.62,-230.95 253.62,-224.95 259.62,-218.95 265.62,-218.95\"/>\n<text text-anchor=\"middle\" x=\"501.12\" y=\"-226.75\" font-family=\"Times,serif\" font-size=\"14.00\">ties (300)</text>\n</g>\n<!-- gifts_given -->\n<g id=\"node1\" class=\"node\">\n<title>gifts_given</title>\n<ellipse fill=\"lightgrey\" stroke=\"black\" cx=\"380.62\" cy=\"-165.48\" rx=\"67.35\" ry=\"37.45\"/>\n<text text-anchor=\"middle\" x=\"380.62\" y=\"-176.78\" font-family=\"Times,serif\" font-size=\"14.00\">gifts_given</text>\n<text text-anchor=\"middle\" x=\"380.62\" y=\"-161.78\" font-family=\"Times,serif\" font-size=\"14.00\">~</text>\n<text text-anchor=\"middle\" x=\"380.62\" y=\"-146.78\" font-family=\"Times,serif\" font-size=\"14.00\">Poisson</text>\n</g>\n<!-- giver_gifts -->\n<g id=\"node3\" class=\"node\">\n<title>giver_gifts</title>\n<path fill=\"lightgrey\" stroke=\"black\" d=\"M423.62,-92C423.62,-92 337.62,-92 337.62,-92 331.62,-92 325.62,-86 325.62,-80 325.62,-80 325.62,-51 325.62,-51 325.62,-45 331.62,-39 337.62,-39 337.62,-39 423.62,-39 423.62,-39 429.62,-39 435.62,-45 435.62,-51 435.62,-51 435.62,-80 435.62,-80 435.62,-86 429.62,-92 423.62,-92\"/>\n<text text-anchor=\"middle\" x=\"380.62\" y=\"-76.8\" font-family=\"Times,serif\" font-size=\"14.00\">giver_gifts</text>\n<text text-anchor=\"middle\" x=\"380.62\" y=\"-61.8\" font-family=\"Times,serif\" font-size=\"14.00\">~</text>\n<text text-anchor=\"middle\" x=\"380.62\" y=\"-46.8\" font-family=\"Times,serif\" font-size=\"14.00\">MutableData</text>\n</g>\n<!-- gifts_given&#45;&gt;giver_gifts -->\n<g id=\"edge1\" class=\"edge\">\n<title>gifts_given&#45;&gt;giver_gifts</title>\n<path fill=\"none\" stroke=\"black\" d=\"M380.62,-127.72C380.62,-119.93 380.62,-111.7 380.62,-103.89\"/>\n<polygon fill=\"black\" stroke=\"black\" points=\"384.12,-103.98 380.62,-93.98 377.12,-103.98 384.12,-103.98\"/>\n</g>\n<!-- gifts_received -->\n<g id=\"node2\" class=\"node\">\n<title>gifts_received</title>\n<ellipse fill=\"lightgrey\" stroke=\"black\" cx=\"213.62\" cy=\"-165.48\" rx=\"82.05\" ry=\"37.45\"/>\n<text text-anchor=\"middle\" x=\"213.62\" y=\"-176.78\" font-family=\"Times,serif\" font-size=\"14.00\">gifts_received</text>\n<text text-anchor=\"middle\" x=\"213.62\" y=\"-161.78\" font-family=\"Times,serif\" font-size=\"14.00\">~</text>\n<text text-anchor=\"middle\" x=\"213.62\" y=\"-146.78\" font-family=\"Times,serif\" font-size=\"14.00\">Poisson</text>\n</g>\n<!-- receiver_gifts -->\n<g id=\"node4\" class=\"node\">\n<title>receiver_gifts</title>\n<path fill=\"lightgrey\" stroke=\"black\" d=\"M258.62,-92C258.62,-92 168.62,-92 168.62,-92 162.62,-92 156.62,-86 156.62,-80 156.62,-80 156.62,-51 156.62,-51 156.62,-45 162.62,-39 168.62,-39 168.62,-39 258.62,-39 258.62,-39 264.62,-39 270.62,-45 270.62,-51 270.62,-51 270.62,-80 270.62,-80 270.62,-86 264.62,-92 258.62,-92\"/>\n<text text-anchor=\"middle\" x=\"213.62\" y=\"-76.8\" font-family=\"Times,serif\" font-size=\"14.00\">receiver_gifts</text>\n<text text-anchor=\"middle\" x=\"213.62\" y=\"-61.8\" font-family=\"Times,serif\" font-size=\"14.00\">~</text>\n<text text-anchor=\"middle\" x=\"213.62\" y=\"-46.8\" font-family=\"Times,serif\" font-size=\"14.00\">MutableData</text>\n</g>\n<!-- gifts_received&#45;&gt;receiver_gifts -->\n<g id=\"edge2\" class=\"edge\">\n<title>gifts_received&#45;&gt;receiver_gifts</title>\n<path fill=\"none\" stroke=\"black\" d=\"M213.62,-127.72C213.62,-119.93 213.62,-111.7 213.62,-103.89\"/>\n<polygon fill=\"black\" stroke=\"black\" points=\"217.12,-103.98 213.62,-93.98 210.12,-103.98 217.12,-103.98\"/>\n</g>\n<!-- α, general giving rate -->\n<g id=\"node5\" class=\"node\">\n<title>α, general giving rate</title>\n<ellipse fill=\"none\" stroke=\"black\" cx=\"121.62\" cy=\"-276.45\" rx=\"121.74\" ry=\"37.45\"/>\n<text text-anchor=\"middle\" x=\"121.62\" y=\"-287.75\" font-family=\"Times,serif\" font-size=\"14.00\">α, general giving rate</text>\n<text text-anchor=\"middle\" x=\"121.62\" y=\"-272.75\" font-family=\"Times,serif\" font-size=\"14.00\">~</text>\n<text text-anchor=\"middle\" x=\"121.62\" y=\"-257.75\" font-family=\"Times,serif\" font-size=\"14.00\">Normal</text>\n</g>\n<!-- α, general giving rate&#45;&gt;gifts_given -->\n<g id=\"edge10\" class=\"edge\">\n<title>α, general giving rate&#45;&gt;gifts_given</title>\n<path fill=\"none\" stroke=\"black\" d=\"M183.83,-243.94C204.35,-234.66 227.56,-225.3 249.62,-218.95 273.36,-212.13 281.31,-219.12 304.62,-210.95 312.65,-208.14 320.77,-204.45 328.58,-200.4\"/>\n<polygon fill=\"black\" stroke=\"black\" points=\"330.2,-203.5 337.29,-195.63 326.84,-197.36 330.2,-203.5\"/>\n</g>\n<!-- α, general giving rate&#45;&gt;gifts_received -->\n<g id=\"edge12\" class=\"edge\">\n<title>α, general giving rate&#45;&gt;gifts_received</title>\n<path fill=\"none\" stroke=\"black\" d=\"M151.75,-239.77C159.93,-230.07 168.89,-219.47 177.37,-209.41\"/>\n<polygon fill=\"black\" stroke=\"black\" points=\"179.93,-211.81 183.71,-201.91 174.58,-207.3 179.93,-211.81\"/>\n</g>\n<!-- Z -->\n<g id=\"node6\" class=\"node\">\n<title>Z</title>\n<ellipse fill=\"none\" stroke=\"black\" cx=\"345.62\" cy=\"-390.41\" rx=\"49.49\" ry=\"37.45\"/>\n<text text-anchor=\"middle\" x=\"345.62\" y=\"-401.71\" font-family=\"Times,serif\" font-size=\"14.00\">Z</text>\n<text text-anchor=\"middle\" x=\"345.62\" y=\"-386.71\" font-family=\"Times,serif\" font-size=\"14.00\">~</text>\n<text text-anchor=\"middle\" x=\"345.62\" y=\"-371.71\" font-family=\"Times,serif\" font-size=\"14.00\">Normal</text>\n</g>\n<!-- T_BA, tie B to A -->\n<g id=\"node10\" class=\"node\">\n<title>T_BA, tie B to A</title>\n<polygon fill=\"none\" stroke=\"black\" points=\"389.62,-302.95 261.62,-302.95 261.62,-249.95 389.62,-249.95 389.62,-302.95\"/>\n<text text-anchor=\"middle\" x=\"325.62\" y=\"-287.75\" font-family=\"Times,serif\" font-size=\"14.00\">T_BA, tie B to A</text>\n<text text-anchor=\"middle\" x=\"325.62\" y=\"-272.75\" font-family=\"Times,serif\" font-size=\"14.00\">~</text>\n<text text-anchor=\"middle\" x=\"325.62\" y=\"-257.75\" font-family=\"Times,serif\" font-size=\"14.00\">Deterministic</text>\n</g>\n<!-- Z&#45;&gt;T_BA, tie B to A -->\n<g id=\"edge7\" class=\"edge\">\n<title>Z&#45;&gt;T_BA, tie B to A</title>\n<path fill=\"none\" stroke=\"black\" d=\"M339.13,-353.06C336.93,-340.77 334.48,-327.03 332.27,-314.68\"/>\n<polygon fill=\"black\" stroke=\"black\" points=\"335.72,-314.06 330.51,-304.84 328.83,-315.29 335.72,-314.06\"/>\n</g>\n<!-- T_AB, tie A to B -->\n<g id=\"node11\" class=\"node\">\n<title>T_AB, tie A to B</title>\n<polygon fill=\"none\" stroke=\"black\" points=\"535.62,-302.95 407.62,-302.95 407.62,-249.95 535.62,-249.95 535.62,-302.95\"/>\n<text text-anchor=\"middle\" x=\"471.62\" y=\"-287.75\" font-family=\"Times,serif\" font-size=\"14.00\">T_AB, tie A to B</text>\n<text text-anchor=\"middle\" x=\"471.62\" y=\"-272.75\" font-family=\"Times,serif\" font-size=\"14.00\">~</text>\n<text text-anchor=\"middle\" x=\"471.62\" y=\"-257.75\" font-family=\"Times,serif\" font-size=\"14.00\">Deterministic</text>\n</g>\n<!-- Z&#45;&gt;T_AB, tie A to B -->\n<g id=\"edge5\" class=\"edge\">\n<title>Z&#45;&gt;T_AB, tie A to B</title>\n<path fill=\"none\" stroke=\"black\" d=\"M377.42,-361.16C394.58,-345.9 415.89,-326.98 433.89,-310.98\"/>\n<polygon fill=\"black\" stroke=\"black\" points=\"436.15,-313.66 441.3,-304.4 431.5,-308.42 436.15,-313.66\"/>\n</g>\n<!-- dyad_ties -->\n<g id=\"node7\" class=\"node\">\n<title>dyad_ties</title>\n<ellipse fill=\"none\" stroke=\"black\" cx=\"598.62\" cy=\"-390.41\" rx=\"98.99\" ry=\"37.45\"/>\n<text text-anchor=\"middle\" x=\"598.62\" y=\"-401.71\" font-family=\"Times,serif\" font-size=\"14.00\">dyad_ties</text>\n<text text-anchor=\"middle\" x=\"598.62\" y=\"-386.71\" font-family=\"Times,serif\" font-size=\"14.00\">~</text>\n<text text-anchor=\"middle\" x=\"598.62\" y=\"-371.71\" font-family=\"Times,serif\" font-size=\"14.00\">_LKJCholeskyCov</text>\n</g>\n<!-- dyad_ties_corr -->\n<g id=\"node8\" class=\"node\">\n<title>dyad_ties_corr</title>\n<polygon fill=\"none\" stroke=\"black\" points=\"679.62,-302.95 559.62,-302.95 559.62,-249.95 679.62,-249.95 679.62,-302.95\"/>\n<text text-anchor=\"middle\" x=\"619.62\" y=\"-287.75\" font-family=\"Times,serif\" font-size=\"14.00\">dyad_ties_corr</text>\n<text text-anchor=\"middle\" x=\"619.62\" y=\"-272.75\" font-family=\"Times,serif\" font-size=\"14.00\">~</text>\n<text text-anchor=\"middle\" x=\"619.62\" y=\"-257.75\" font-family=\"Times,serif\" font-size=\"14.00\">Deterministic</text>\n</g>\n<!-- dyad_ties&#45;&gt;dyad_ties_corr -->\n<g id=\"edge3\" class=\"edge\">\n<title>dyad_ties&#45;&gt;dyad_ties_corr</title>\n<path fill=\"none\" stroke=\"black\" d=\"M605.5,-352.75C607.8,-340.47 610.37,-326.79 612.68,-314.48\"/>\n<polygon fill=\"black\" stroke=\"black\" points=\"616.11,-315.17 614.51,-304.69 609.23,-313.87 616.11,-315.17\"/>\n</g>\n<!-- dyad_ties_stds -->\n<g id=\"node9\" class=\"node\">\n<title>dyad_ties_stds</title>\n<polygon fill=\"none\" stroke=\"black\" points=\"825.12,-302.95 704.12,-302.95 704.12,-249.95 825.12,-249.95 825.12,-302.95\"/>\n<text text-anchor=\"middle\" x=\"764.62\" y=\"-287.75\" font-family=\"Times,serif\" font-size=\"14.00\">dyad_ties_stds</text>\n<text text-anchor=\"middle\" x=\"764.62\" y=\"-272.75\" font-family=\"Times,serif\" font-size=\"14.00\">~</text>\n<text text-anchor=\"middle\" x=\"764.62\" y=\"-257.75\" font-family=\"Times,serif\" font-size=\"14.00\">Deterministic</text>\n</g>\n<!-- dyad_ties&#45;&gt;dyad_ties_stds -->\n<g id=\"edge4\" class=\"edge\">\n<title>dyad_ties&#45;&gt;dyad_ties_stds</title>\n<path fill=\"none\" stroke=\"black\" d=\"M646.19,-357.33C668.31,-342.41 694.55,-324.71 716.71,-309.76\"/>\n<polygon fill=\"black\" stroke=\"black\" points=\"718.67,-312.67 725,-304.18 714.75,-306.87 718.67,-312.67\"/>\n</g>\n<!-- dyad_ties&#45;&gt;T_BA, tie B to A -->\n<g id=\"edge8\" class=\"edge\">\n<title>dyad_ties&#45;&gt;T_BA, tie B to A</title>\n<path fill=\"none\" stroke=\"black\" d=\"M533.01,-361.96C501.16,-349.08 462.17,-333.95 426.62,-321.93 414.36,-317.78 410.68,-318.62 398.62,-313.93 394.04,-312.15 389.36,-310.18 384.7,-308.11\"/>\n<polygon fill=\"black\" stroke=\"black\" points=\"386.46,-305.07 375.91,-304.07 383.54,-311.43 386.46,-305.07\"/>\n</g>\n<!-- dyad_ties&#45;&gt;T_AB, tie A to B -->\n<g id=\"edge6\" class=\"edge\">\n<title>dyad_ties&#45;&gt;T_AB, tie A to B</title>\n<path fill=\"none\" stroke=\"black\" d=\"M560.17,-355.51C544.16,-341.39 525.61,-325.04 509.64,-310.97\"/>\n<polygon fill=\"black\" stroke=\"black\" points=\"512.02,-308.4 502.2,-304.41 507.39,-313.65 512.02,-308.4\"/>\n</g>\n<!-- T_BA, tie B to A&#45;&gt;gifts_received -->\n<g id=\"edge11\" class=\"edge\">\n<title>T_BA, tie B to A&#45;&gt;gifts_received</title>\n<path fill=\"none\" stroke=\"black\" d=\"M299.08,-249.63C286.2,-237.09 270.41,-221.73 255.93,-207.64\"/>\n<polygon fill=\"black\" stroke=\"black\" points=\"258.73,-205.49 249.12,-201.02 253.85,-210.5 258.73,-205.49\"/>\n</g>\n<!-- T_AB, tie A to B&#45;&gt;gifts_given -->\n<g id=\"edge9\" class=\"edge\">\n<title>T_AB, tie A to B&#45;&gt;gifts_given</title>\n<path fill=\"none\" stroke=\"black\" d=\"M450.06,-249.63C439.78,-237.33 427.24,-222.3 415.65,-208.42\"/>\n<polygon fill=\"black\" stroke=\"black\" points=\"418.65,-206.56 409.56,-201.13 413.28,-211.05 418.65,-206.56\"/>\n</g>\n</g>\n</svg>\n",
      "text/plain": [
       "<graphviz.graphs.Digraph at 0x7f96a4255e10>"
      ]
     },
     "execution_count": 31,
     "metadata": {},
     "output_type": "execute_result"
    }
   ],
   "source": [
    "coords = {\n",
    "    'givers': givers,\n",
    "    'receivers': receivers,\n",
    "    \"pair\": ['giver', 'receiver'],\n",
    "    'ties': ties\n",
    "}\n",
    "\n",
    "with pm.Model(coords=coords) as base_model:\n",
    "    #setup data    \n",
    "    g_counts = pm.MutableData(\"giver_gifts\", giver_gifts)\n",
    "    r_counts = pm.MutableData(\"receiver_gifts\", receiver_gifts)\n",
    "\n",
    "    #basic giving rate\n",
    "    α = pm.Normal(\"α, general giving rate\", 0, 1)\n",
    "\n",
    "    #dyad effects (unobservable)\n",
    "    # this is not identical to lecture - can't force a single variance to be used without getting deeper in internals\n",
    "    σ = pm.Exponential.dist(1.0)    \n",
    "    Z = pm.Normal('Z', mu=0, sigma=1, dims=[\"pair\", \"ties\"])\n",
    "    chol, corr, stds = pm.LKJCholeskyCov('dyad_ties', n=len(coords['pair']), eta=2, sd_dist=σ, compute_corr=True)\n",
    "    vals = pm.math.dot(chol, Z)\n",
    "    T_AB = pm.Deterministic(\"T_AB, tie A to B\", vals[0, :], dims=\"ties\")\n",
    "    T_BA = pm.Deterministic(\"T_BA, tie B to A\", vals[1, :], dims=\"ties\")\n",
    "\n",
    "    #set up expected rates        \n",
    "    λ_AB = pm.math.exp(α + T_AB[ties])\n",
    "    λ_BA = pm.math.exp(α + T_BA[ties])\n",
    "\n",
    "    #set up likelihoods\n",
    "    pm.Poisson(\"gifts_given\", mu=λ_AB, observed = g_counts)\n",
    "    pm.Poisson(\"gifts_received\", mu=λ_BA, observed = r_counts)\n",
    "\n",
    "pm.model_to_graphviz(base_model)"
   ]
  },
  {
   "cell_type": "code",
   "execution_count": 32,
   "metadata": {},
   "outputs": [
    {
     "name": "stdout",
     "output_type": "stream",
     "text": [
      "Compiling...\n",
      "Compilation time =  0:00:02.054849\n",
      "Sampling...\n",
      "Sampling time =  0:00:05.846094\n",
      "Transforming variables...\n",
      "Transformation time =  0:00:02.494808\n"
     ]
    }
   ],
   "source": [
    "with base_model:\n",
    "    base_trace = sampling_jax.sample_blackjax_nuts()"
   ]
  },
  {
   "cell_type": "code",
   "execution_count": 33,
   "metadata": {},
   "outputs": [
    {
     "data": {
      "text/html": [
       "<div>\n",
       "<style scoped>\n",
       "    .dataframe tbody tr th:only-of-type {\n",
       "        vertical-align: middle;\n",
       "    }\n",
       "\n",
       "    .dataframe tbody tr th {\n",
       "        vertical-align: top;\n",
       "    }\n",
       "\n",
       "    .dataframe thead th {\n",
       "        text-align: right;\n",
       "    }\n",
       "</style>\n",
       "<table border=\"1\" class=\"dataframe\">\n",
       "  <thead>\n",
       "    <tr style=\"text-align: right;\">\n",
       "      <th></th>\n",
       "      <th>mean</th>\n",
       "      <th>sd</th>\n",
       "      <th>hdi_3%</th>\n",
       "      <th>hdi_97%</th>\n",
       "      <th>mcse_mean</th>\n",
       "      <th>mcse_sd</th>\n",
       "      <th>ess_bulk</th>\n",
       "      <th>ess_tail</th>\n",
       "      <th>r_hat</th>\n",
       "    </tr>\n",
       "  </thead>\n",
       "  <tbody>\n",
       "    <tr>\n",
       "      <th>dyad_ties_corr[1, 0]</th>\n",
       "      <td>0.351</td>\n",
       "      <td>0.069</td>\n",
       "      <td>0.221</td>\n",
       "      <td>0.478</td>\n",
       "      <td>0.003</td>\n",
       "      <td>0.002</td>\n",
       "      <td>492.0</td>\n",
       "      <td>1085.0</td>\n",
       "      <td>1.01</td>\n",
       "    </tr>\n",
       "    <tr>\n",
       "      <th>dyad_ties_stds[0]</th>\n",
       "      <td>1.394</td>\n",
       "      <td>0.089</td>\n",
       "      <td>1.228</td>\n",
       "      <td>1.553</td>\n",
       "      <td>0.004</td>\n",
       "      <td>0.003</td>\n",
       "      <td>514.0</td>\n",
       "      <td>1128.0</td>\n",
       "      <td>1.01</td>\n",
       "    </tr>\n",
       "    <tr>\n",
       "      <th>dyad_ties_stds[1]</th>\n",
       "      <td>1.492</td>\n",
       "      <td>0.085</td>\n",
       "      <td>1.327</td>\n",
       "      <td>1.647</td>\n",
       "      <td>0.004</td>\n",
       "      <td>0.003</td>\n",
       "      <td>442.0</td>\n",
       "      <td>902.0</td>\n",
       "      <td>1.01</td>\n",
       "    </tr>\n",
       "    <tr>\n",
       "      <th>α, general giving rate</th>\n",
       "      <td>0.545</td>\n",
       "      <td>0.082</td>\n",
       "      <td>0.388</td>\n",
       "      <td>0.693</td>\n",
       "      <td>0.003</td>\n",
       "      <td>0.002</td>\n",
       "      <td>728.0</td>\n",
       "      <td>1535.0</td>\n",
       "      <td>1.01</td>\n",
       "    </tr>\n",
       "  </tbody>\n",
       "</table>\n",
       "</div>"
      ],
      "text/plain": [
       "                         mean     sd  hdi_3%  hdi_97%  mcse_mean  mcse_sd  \\\n",
       "dyad_ties_corr[1, 0]    0.351  0.069   0.221    0.478      0.003    0.002   \n",
       "dyad_ties_stds[0]       1.394  0.089   1.228    1.553      0.004    0.003   \n",
       "dyad_ties_stds[1]       1.492  0.085   1.327    1.647      0.004    0.003   \n",
       "α, general giving rate  0.545  0.082   0.388    0.693      0.003    0.002   \n",
       "\n",
       "                        ess_bulk  ess_tail  r_hat  \n",
       "dyad_ties_corr[1, 0]       492.0    1085.0   1.01  \n",
       "dyad_ties_stds[0]          514.0    1128.0   1.01  \n",
       "dyad_ties_stds[1]          442.0     902.0   1.01  \n",
       "α, general giving rate     728.0    1535.0   1.01  "
      ]
     },
     "execution_count": 33,
     "metadata": {},
     "output_type": "execute_result"
    }
   ],
   "source": [
    "az.summary(\n",
    "    base_trace, \n",
    "    var_names=['dyad_ties_corr', 'dyad_ties_stds', 'α, general giving rate'],\n",
    "    coords={\"dyad_ties_corr_dim_0\": [1], \"dyad_ties_corr_dim_1\": [0]})"
   ]
  },
  {
   "cell_type": "code",
   "execution_count": null,
   "metadata": {},
   "outputs": [],
   "source": [
    "g_id = pm.MutableData(\"giver_ids\", giver_idx, coords=\"givers\")\n",
    "r_id = pm.MutableData(\"receiver_ids\", giver_idx, coords=\"receivers\")"
   ]
  }
 ],
 "metadata": {
  "kernelspec": {
   "display_name": "Python 3",
   "language": "python",
   "name": "python3"
  },
  "language_info": {
   "codemirror_mode": {
    "name": "ipython",
    "version": 3
   },
   "file_extension": ".py",
   "mimetype": "text/x-python",
   "name": "python",
   "nbconvert_exporter": "python",
   "pygments_lexer": "ipython3",
   "version": "3.11.0"
  },
  "orig_nbformat": 4,
  "vscode": {
   "interpreter": {
    "hash": "4fd05b4ab74bc1e9329e17be87942dac73398669b336473801cd3b358a7d8bbe"
   }
  }
 },
 "nbformat": 4,
 "nbformat_minor": 2
}
