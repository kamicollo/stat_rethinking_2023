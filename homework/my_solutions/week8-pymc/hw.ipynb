{
 "cells": [
  {
   "cell_type": "code",
   "execution_count": 1,
   "metadata": {},
   "outputs": [
    {
     "name": "stderr",
     "output_type": "stream",
     "text": [
      "/home/aurimas/micromamba/envs/pymc5/lib/python3.11/site-packages/pymc/sampling/jax.py:39: UserWarning: This module is experimental.\n",
      "  warnings.warn(\"This module is experimental.\")\n"
     ]
    },
    {
     "data": {
      "text/plain": [
       "'5.0.2'"
      ]
     },
     "execution_count": 1,
     "metadata": {},
     "output_type": "execute_result"
    }
   ],
   "source": [
    "import pymc as pm\n",
    "import pandas as pd\n",
    "import numpy as np\n",
    "import arviz as az\n",
    "from matplotlib import pyplot as plt\n",
    "from pymc import sampling_jax\n",
    "import altair as alt\n",
    "import igraph\n",
    "alt.renderers.enable('mimetype')\n",
    "pm.__version__"
   ]
  },
  {
   "cell_type": "markdown",
   "metadata": {},
   "source": [
    "## Getting data"
   ]
  },
  {
   "cell_type": "code",
   "execution_count": 10,
   "metadata": {},
   "outputs": [
    {
     "data": {
      "text/html": [
       "<div>\n",
       "<style scoped>\n",
       "    .dataframe tbody tr th:only-of-type {\n",
       "        vertical-align: middle;\n",
       "    }\n",
       "\n",
       "    .dataframe tbody tr th {\n",
       "        vertical-align: top;\n",
       "    }\n",
       "\n",
       "    .dataframe thead th {\n",
       "        text-align: right;\n",
       "    }\n",
       "</style>\n",
       "<table border=\"1\" class=\"dataframe\">\n",
       "  <thead>\n",
       "    <tr style=\"text-align: right;\">\n",
       "      <th></th>\n",
       "      <th>dyad_id</th>\n",
       "      <th>A</th>\n",
       "      <th>B</th>\n",
       "      <th>like_AB</th>\n",
       "      <th>like_BA</th>\n",
       "      <th>dislike_AB</th>\n",
       "      <th>dislike_BA</th>\n",
       "    </tr>\n",
       "  </thead>\n",
       "  <tbody>\n",
       "    <tr>\n",
       "      <th>count</th>\n",
       "      <td>153.0</td>\n",
       "      <td>153.0</td>\n",
       "      <td>153.0</td>\n",
       "      <td>153.0</td>\n",
       "      <td>153.0</td>\n",
       "      <td>153.0</td>\n",
       "      <td>153.0</td>\n",
       "    </tr>\n",
       "    <tr>\n",
       "      <th>mean</th>\n",
       "      <td>77.0</td>\n",
       "      <td>6.3</td>\n",
       "      <td>12.7</td>\n",
       "      <td>0.3</td>\n",
       "      <td>0.5</td>\n",
       "      <td>0.3</td>\n",
       "      <td>0.3</td>\n",
       "    </tr>\n",
       "    <tr>\n",
       "      <th>std</th>\n",
       "      <td>44.3</td>\n",
       "      <td>4.1</td>\n",
       "      <td>4.1</td>\n",
       "      <td>0.7</td>\n",
       "      <td>1.0</td>\n",
       "      <td>0.8</td>\n",
       "      <td>0.8</td>\n",
       "    </tr>\n",
       "    <tr>\n",
       "      <th>min</th>\n",
       "      <td>1.0</td>\n",
       "      <td>1.0</td>\n",
       "      <td>2.0</td>\n",
       "      <td>0.0</td>\n",
       "      <td>0.0</td>\n",
       "      <td>0.0</td>\n",
       "      <td>0.0</td>\n",
       "    </tr>\n",
       "    <tr>\n",
       "      <th>25%</th>\n",
       "      <td>39.0</td>\n",
       "      <td>3.0</td>\n",
       "      <td>10.0</td>\n",
       "      <td>0.0</td>\n",
       "      <td>0.0</td>\n",
       "      <td>0.0</td>\n",
       "      <td>0.0</td>\n",
       "    </tr>\n",
       "    <tr>\n",
       "      <th>50%</th>\n",
       "      <td>77.0</td>\n",
       "      <td>6.0</td>\n",
       "      <td>13.0</td>\n",
       "      <td>0.0</td>\n",
       "      <td>0.0</td>\n",
       "      <td>0.0</td>\n",
       "      <td>0.0</td>\n",
       "    </tr>\n",
       "    <tr>\n",
       "      <th>75%</th>\n",
       "      <td>115.0</td>\n",
       "      <td>9.0</td>\n",
       "      <td>16.0</td>\n",
       "      <td>0.0</td>\n",
       "      <td>0.0</td>\n",
       "      <td>0.0</td>\n",
       "      <td>0.0</td>\n",
       "    </tr>\n",
       "    <tr>\n",
       "      <th>max</th>\n",
       "      <td>153.0</td>\n",
       "      <td>17.0</td>\n",
       "      <td>18.0</td>\n",
       "      <td>3.0</td>\n",
       "      <td>3.0</td>\n",
       "      <td>3.0</td>\n",
       "      <td>3.0</td>\n",
       "    </tr>\n",
       "  </tbody>\n",
       "</table>\n",
       "</div>"
      ],
      "text/plain": [
       "       dyad_id      A      B  like_AB  like_BA  dislike_AB  dislike_BA\n",
       "count    153.0  153.0  153.0    153.0    153.0       153.0       153.0\n",
       "mean      77.0    6.3   12.7      0.3      0.5         0.3         0.3\n",
       "std       44.3    4.1    4.1      0.7      1.0         0.8         0.8\n",
       "min        1.0    1.0    2.0      0.0      0.0         0.0         0.0\n",
       "25%       39.0    3.0   10.0      0.0      0.0         0.0         0.0\n",
       "50%       77.0    6.0   13.0      0.0      0.0         0.0         0.0\n",
       "75%      115.0    9.0   16.0      0.0      0.0         0.0         0.0\n",
       "max      153.0   17.0   18.0      3.0      3.0         3.0         3.0"
      ]
     },
     "execution_count": 10,
     "metadata": {},
     "output_type": "execute_result"
    }
   ],
   "source": [
    "monks = pd.read_csv(\"../../../datasets/Monks.csv\", sep=\";\")\n",
    "monks.describe().round(1)"
   ]
  },
  {
   "cell_type": "markdown",
   "metadata": {},
   "source": [
    "Let's set up monk coordinates with names"
   ]
  },
  {
   "cell_type": "code",
   "execution_count": 94,
   "metadata": {},
   "outputs": [],
   "source": [
    "monk_id_name_pairs = set(\n",
    "    zip(monks['B'] - 1, monks['B_name'])\n",
    ").union(\n",
    "    set(zip(monks['A'] - 1, monks['A_name'])\n",
    "))\n",
    "monk_ids, monk_names = zip(*monk_id_name_pairs)"
   ]
  },
  {
   "cell_type": "markdown",
   "metadata": {},
   "source": [
    "# Ex 1 "
   ]
  },
  {
   "attachments": {},
   "cell_type": "markdown",
   "metadata": {},
   "source": [
    "The data in data(Monks) are “like” and “dislike” nominations by 18 monks living\n",
    "in the same monastery over three time periods. Therefore the observed variables are\n",
    "counts from 0 to 3 of times monk A nominated monk B as liked or disliked. Each\n",
    "row in the data is a pair of monks (a dyad). The variables are:\n",
    "\n",
    " - A: Index number for first monk in dyad\n",
    " - B: Index number for second monk in dyad\n",
    " - like_AB: Number of times A nominated B as liked\n",
    " - like_BA: Number of times B nominated A as liked\n",
    " - dislike_AB: Number of times A nominated B as disliked\n",
    " - dislike_BA: Number of times B nominated A as disliked\n",
    "\n",
    "Use these data to estimate the amount of reciprocity in “like” nominations within\n",
    "dyads. You can ignore the “dislike” data for now. Use the social network example\n",
    "from the book to help, but you should modify it appropriately."
   ]
  },
  {
   "cell_type": "code",
   "execution_count": 148,
   "metadata": {},
   "outputs": [],
   "source": [
    "coords = {\n",
    "    'monks': monk_names,\n",
    "    'dyads': monks.dyad_id.values,\n",
    "    'pair': ['nominated by', 'nominee'],\n",
    "}\n",
    "\n",
    "\n",
    "def likes(data, RVs):\n",
    "    data['liked_by_A'] = pm.MutableData(\"liked_by_A\", monks['like_AB'], dims='dyads')\n",
    "    data['liked_by_B'] = pm.MutableData(\"liked_by_B\", monks['like_BA'], dims='dyads')\n",
    "    data['attempts'] = pm.MutableData(\"attempts\", [3] * len(monks), dims='dyads')\n",
    "\n",
    "    #parameters\n",
    "    RVs['α'] = pm.Normal('α, general rate of liking', -2, 1) #the general possibility of liking should be quite low\n",
    "\n",
    "    #estimation of social ties\n",
    "    σ = pm.Exponential.dist(1.0)    \n",
    "    Z = pm.Normal('Z', mu=0, sigma=1, dims=[\"pair\", \"dyads\"])\n",
    "    chol, corr, stds = pm.LKJCholeskyCov('monk_ties', n=len(coords['pair']), eta=2, sd_dist=σ, compute_corr=True)\n",
    "    vals = pm.math.dot(chol, Z)\n",
    "    RVs['AB_like'] = pm.Deterministic(\"AB_like\", vals[0, :], dims=\"dyads\")\n",
    "    RVs['BA_like'] = pm.Deterministic(\"BA_like\", vals[1, :], dims=\"dyads\")\n",
    "    pm.Deterministic(\"Monk like reciprocity\", corr[1,0])\n",
    "    RVs['like_corr'] = corr[1,0]\n",
    "\n",
    "\n",
    "with pm.Model(coords=coords) as ex1_model:\n",
    "    data = {}\n",
    "    RVs = {}\n",
    "    likes(data, RVs)\n",
    "\n",
    "    #two binomial models\n",
    "    #A -> B model\n",
    "    logit_p_AB = RVs['α'] + RVs['AB_like'] \n",
    "    pm.Binomial(\"likes AB\", n = data['attempts'], logit_p = logit_p_AB, dims='dyads', observed = data['liked_by_A'])\n",
    "\n",
    "    #B -> A model\n",
    "    logit_p_BA = RVs['α'] + RVs['BA_like'] \n",
    "    pm.Binomial(\"likes BA\", n = data['attempts'], logit_p = logit_p_BA, dims='dyads', observed = data['liked_by_B'])"
   ]
  },
  {
   "cell_type": "code",
   "execution_count": 99,
   "metadata": {},
   "outputs": [
    {
     "data": {
      "image/svg+xml": "<?xml version=\"1.0\" encoding=\"UTF-8\" standalone=\"no\"?>\n<!DOCTYPE svg PUBLIC \"-//W3C//DTD SVG 1.1//EN\"\n \"http://www.w3.org/Graphics/SVG/1.1/DTD/svg11.dtd\">\n<!-- Generated by graphviz version 7.1.0 (20230122.1345)\n -->\n<!-- Pages: 1 -->\n<svg width=\"1019pt\" height=\"452pt\"\n viewBox=\"0.00 0.00 1019.00 451.86\" xmlns=\"http://www.w3.org/2000/svg\" xmlns:xlink=\"http://www.w3.org/1999/xlink\">\n<g id=\"graph0\" class=\"graph\" transform=\"scale(1 1) rotate(0) translate(4 447.86)\">\n<polygon fill=\"white\" stroke=\"none\" points=\"-4,4 -4,-447.86 1015,-447.86 1015,4 -4,4\"/>\n<g id=\"clust1\" class=\"cluster\">\n<title>clusterdyads (153)</title>\n<path fill=\"none\" stroke=\"black\" d=\"M597,-8C597,-8 991,-8 991,-8 997,-8 1003,-14 1003,-20 1003,-20 1003,-298.93 1003,-298.93 1003,-304.93 997,-310.93 991,-310.93 991,-310.93 597,-310.93 597,-310.93 591,-310.93 585,-304.93 585,-298.93 585,-298.93 585,-20 585,-20 585,-14 591,-8 597,-8\"/>\n<text text-anchor=\"middle\" x=\"952.5\" y=\"-15.8\" font-family=\"Times,serif\" font-size=\"14.00\">dyads (153)</text>\n</g>\n<g id=\"clust2\" class=\"cluster\">\n<title>clusterpair (2) x dyads (153)</title>\n<path fill=\"none\" stroke=\"black\" d=\"M792,-321.91C792,-321.91 938,-321.91 938,-321.91 944,-321.91 950,-327.91 950,-333.91 950,-333.91 950,-423.86 950,-423.86 950,-429.86 944,-435.86 938,-435.86 938,-435.86 792,-435.86 792,-435.86 786,-435.86 780,-429.86 780,-423.86 780,-423.86 780,-333.91 780,-333.91 780,-327.91 786,-321.91 792,-321.91\"/>\n<text text-anchor=\"middle\" x=\"865\" y=\"-329.71\" font-family=\"Times,serif\" font-size=\"14.00\">pair (2) x dyads (153)</text>\n</g>\n<g id=\"clust3\" class=\"cluster\">\n<title>cluster3</title>\n<path fill=\"none\" stroke=\"black\" d=\"M464,-321.91C464,-321.91 654,-321.91 654,-321.91 660,-321.91 666,-327.91 666,-333.91 666,-333.91 666,-423.86 666,-423.86 666,-429.86 660,-435.86 654,-435.86 654,-435.86 464,-435.86 464,-435.86 458,-435.86 452,-429.86 452,-423.86 452,-423.86 452,-333.91 452,-333.91 452,-327.91 458,-321.91 464,-321.91\"/>\n<text text-anchor=\"middle\" x=\"653\" y=\"-329.71\" font-family=\"Times,serif\" font-size=\"14.00\">3</text>\n</g>\n<g id=\"clust4\" class=\"cluster\">\n<title>cluster2 x 2</title>\n<path fill=\"none\" stroke=\"black\" d=\"M25,-218.93C25,-218.93 143,-218.93 143,-218.93 149,-218.93 155,-224.93 155,-230.93 155,-230.93 155,-298.93 155,-298.93 155,-304.93 149,-310.93 143,-310.93 143,-310.93 25,-310.93 25,-310.93 19,-310.93 13,-304.93 13,-298.93 13,-298.93 13,-230.93 13,-230.93 13,-224.93 19,-218.93 25,-218.93\"/>\n<text text-anchor=\"middle\" x=\"129\" y=\"-226.73\" font-family=\"Times,serif\" font-size=\"14.00\">2 x 2</text>\n</g>\n<g id=\"clust5\" class=\"cluster\">\n<title>cluster2</title>\n<path fill=\"none\" stroke=\"black\" d=\"M447,-218.93C447,-218.93 565,-218.93 565,-218.93 571,-218.93 577,-224.93 577,-230.93 577,-230.93 577,-298.93 577,-298.93 577,-304.93 571,-310.93 565,-310.93 565,-310.93 447,-310.93 447,-310.93 441,-310.93 435,-304.93 435,-298.93 435,-298.93 435,-230.93 435,-230.93 435,-224.93 441,-218.93 447,-218.93\"/>\n<text text-anchor=\"middle\" x=\"564\" y=\"-226.73\" font-family=\"Times,serif\" font-size=\"14.00\">2</text>\n</g>\n<!-- liked_by_B -->\n<g id=\"node1\" class=\"node\">\n<title>liked_by_B</title>\n<path fill=\"lightgrey\" stroke=\"black\" d=\"M837,-92C837,-92 751,-92 751,-92 745,-92 739,-86 739,-80 739,-80 739,-51 739,-51 739,-45 745,-39 751,-39 751,-39 837,-39 837,-39 843,-39 849,-45 849,-51 849,-51 849,-80 849,-80 849,-86 843,-92 837,-92\"/>\n<text text-anchor=\"middle\" x=\"794\" y=\"-76.8\" font-family=\"Times,serif\" font-size=\"14.00\">liked_by_B</text>\n<text text-anchor=\"middle\" x=\"794\" y=\"-61.8\" font-family=\"Times,serif\" font-size=\"14.00\">~</text>\n<text text-anchor=\"middle\" x=\"794\" y=\"-46.8\" font-family=\"Times,serif\" font-size=\"14.00\">MutableData</text>\n</g>\n<!-- attempts -->\n<g id=\"node2\" class=\"node\">\n<title>attempts</title>\n<path fill=\"lightgrey\" stroke=\"black\" d=\"M837,-302.93C837,-302.93 751,-302.93 751,-302.93 745,-302.93 739,-296.93 739,-290.93 739,-290.93 739,-261.93 739,-261.93 739,-255.93 745,-249.93 751,-249.93 751,-249.93 837,-249.93 837,-249.93 843,-249.93 849,-255.93 849,-261.93 849,-261.93 849,-290.93 849,-290.93 849,-296.93 843,-302.93 837,-302.93\"/>\n<text text-anchor=\"middle\" x=\"794\" y=\"-287.73\" font-family=\"Times,serif\" font-size=\"14.00\">attempts</text>\n<text text-anchor=\"middle\" x=\"794\" y=\"-272.73\" font-family=\"Times,serif\" font-size=\"14.00\">~</text>\n<text text-anchor=\"middle\" x=\"794\" y=\"-257.73\" font-family=\"Times,serif\" font-size=\"14.00\">MutableData</text>\n</g>\n<!-- likes BA -->\n<g id=\"node3\" class=\"node\">\n<title>likes BA</title>\n<ellipse fill=\"lightgrey\" stroke=\"black\" cx=\"794\" cy=\"-165.48\" rx=\"56.64\" ry=\"37.45\"/>\n<text text-anchor=\"middle\" x=\"794\" y=\"-176.78\" font-family=\"Times,serif\" font-size=\"14.00\">likes BA</text>\n<text text-anchor=\"middle\" x=\"794\" y=\"-161.78\" font-family=\"Times,serif\" font-size=\"14.00\">~</text>\n<text text-anchor=\"middle\" x=\"794\" y=\"-146.78\" font-family=\"Times,serif\" font-size=\"14.00\">Binomial</text>\n</g>\n<!-- attempts&#45;&gt;likes BA -->\n<g id=\"edge14\" class=\"edge\">\n<title>attempts&#45;&gt;likes BA</title>\n<path fill=\"none\" stroke=\"black\" d=\"M794,-249.61C794,-239.12 794,-226.64 794,-214.59\"/>\n<polygon fill=\"black\" stroke=\"black\" points=\"797.5,-214.76 794,-204.76 790.5,-214.76 797.5,-214.76\"/>\n</g>\n<!-- likes AB -->\n<g id=\"node4\" class=\"node\">\n<title>likes AB</title>\n<ellipse fill=\"lightgrey\" stroke=\"black\" cx=\"657\" cy=\"-165.48\" rx=\"56.64\" ry=\"37.45\"/>\n<text text-anchor=\"middle\" x=\"657\" y=\"-176.78\" font-family=\"Times,serif\" font-size=\"14.00\">likes AB</text>\n<text text-anchor=\"middle\" x=\"657\" y=\"-161.78\" font-family=\"Times,serif\" font-size=\"14.00\">~</text>\n<text text-anchor=\"middle\" x=\"657\" y=\"-146.78\" font-family=\"Times,serif\" font-size=\"14.00\">Binomial</text>\n</g>\n<!-- attempts&#45;&gt;likes AB -->\n<g id=\"edge12\" class=\"edge\">\n<title>attempts&#45;&gt;likes AB</title>\n<path fill=\"none\" stroke=\"black\" d=\"M765.85,-249.49C754.87,-239.67 742.05,-228.54 730,-218.93 722.02,-212.57 713.36,-206.04 704.89,-199.84\"/>\n<polygon fill=\"black\" stroke=\"black\" points=\"707.18,-197.18 697.03,-194.15 703.08,-202.85 707.18,-197.18\"/>\n</g>\n<!-- likes BA&#45;&gt;liked_by_B -->\n<g id=\"edge2\" class=\"edge\">\n<title>likes BA&#45;&gt;liked_by_B</title>\n<path fill=\"none\" stroke=\"black\" d=\"M794,-127.72C794,-119.93 794,-111.7 794,-103.89\"/>\n<polygon fill=\"black\" stroke=\"black\" points=\"797.5,-103.98 794,-93.98 790.5,-103.98 797.5,-103.98\"/>\n</g>\n<!-- liked_by_A -->\n<g id=\"node7\" class=\"node\">\n<title>liked_by_A</title>\n<path fill=\"lightgrey\" stroke=\"black\" d=\"M700,-92C700,-92 614,-92 614,-92 608,-92 602,-86 602,-80 602,-80 602,-51 602,-51 602,-45 608,-39 614,-39 614,-39 700,-39 700,-39 706,-39 712,-45 712,-51 712,-51 712,-80 712,-80 712,-86 706,-92 700,-92\"/>\n<text text-anchor=\"middle\" x=\"657\" y=\"-76.8\" font-family=\"Times,serif\" font-size=\"14.00\">liked_by_A</text>\n<text text-anchor=\"middle\" x=\"657\" y=\"-61.8\" font-family=\"Times,serif\" font-size=\"14.00\">~</text>\n<text text-anchor=\"middle\" x=\"657\" y=\"-46.8\" font-family=\"Times,serif\" font-size=\"14.00\">MutableData</text>\n</g>\n<!-- likes AB&#45;&gt;liked_by_A -->\n<g id=\"edge1\" class=\"edge\">\n<title>likes AB&#45;&gt;liked_by_A</title>\n<path fill=\"none\" stroke=\"black\" d=\"M657,-127.72C657,-119.93 657,-111.7 657,-103.89\"/>\n<polygon fill=\"black\" stroke=\"black\" points=\"660.5,-103.98 657,-93.98 653.5,-103.98 660.5,-103.98\"/>\n</g>\n<!-- T_AB, tie A to B -->\n<g id=\"node5\" class=\"node\">\n<title>T_AB, tie A to B</title>\n<polygon fill=\"none\" stroke=\"black\" points=\"721,-302.93 593,-302.93 593,-249.93 721,-249.93 721,-302.93\"/>\n<text text-anchor=\"middle\" x=\"657\" y=\"-287.73\" font-family=\"Times,serif\" font-size=\"14.00\">T_AB, tie A to B</text>\n<text text-anchor=\"middle\" x=\"657\" y=\"-272.73\" font-family=\"Times,serif\" font-size=\"14.00\">~</text>\n<text text-anchor=\"middle\" x=\"657\" y=\"-257.73\" font-family=\"Times,serif\" font-size=\"14.00\">Deterministic</text>\n</g>\n<!-- T_AB, tie A to B&#45;&gt;likes AB -->\n<g id=\"edge11\" class=\"edge\">\n<title>T_AB, tie A to B&#45;&gt;likes AB</title>\n<path fill=\"none\" stroke=\"black\" d=\"M657,-249.61C657,-239.12 657,-226.64 657,-214.59\"/>\n<polygon fill=\"black\" stroke=\"black\" points=\"660.5,-214.76 657,-204.76 653.5,-214.76 660.5,-214.76\"/>\n</g>\n<!-- T_BA, tie B to A -->\n<g id=\"node6\" class=\"node\">\n<title>T_BA, tie B to A</title>\n<polygon fill=\"none\" stroke=\"black\" points=\"995,-302.93 867,-302.93 867,-249.93 995,-249.93 995,-302.93\"/>\n<text text-anchor=\"middle\" x=\"931\" y=\"-287.73\" font-family=\"Times,serif\" font-size=\"14.00\">T_BA, tie B to A</text>\n<text text-anchor=\"middle\" x=\"931\" y=\"-272.73\" font-family=\"Times,serif\" font-size=\"14.00\">~</text>\n<text text-anchor=\"middle\" x=\"931\" y=\"-257.73\" font-family=\"Times,serif\" font-size=\"14.00\">Deterministic</text>\n</g>\n<!-- T_BA, tie B to A&#45;&gt;likes BA -->\n<g id=\"edge15\" class=\"edge\">\n<title>T_BA, tie B to A&#45;&gt;likes BA</title>\n<path fill=\"none\" stroke=\"black\" d=\"M898.53,-249.61C880.56,-235.31 857.95,-217.33 838.36,-201.76\"/>\n<polygon fill=\"black\" stroke=\"black\" points=\"840.79,-199.22 830.79,-195.73 836.43,-204.7 840.79,-199.22\"/>\n</g>\n<!-- α, general rate of liking -->\n<g id=\"node8\" class=\"node\">\n<title>α, general rate of liking</title>\n<ellipse fill=\"none\" stroke=\"black\" cx=\"295\" cy=\"-276.43\" rx=\"130.63\" ry=\"37.45\"/>\n<text text-anchor=\"middle\" x=\"295\" y=\"-287.73\" font-family=\"Times,serif\" font-size=\"14.00\">α, general rate of liking</text>\n<text text-anchor=\"middle\" x=\"295\" y=\"-272.73\" font-family=\"Times,serif\" font-size=\"14.00\">~</text>\n<text text-anchor=\"middle\" x=\"295\" y=\"-257.73\" font-family=\"Times,serif\" font-size=\"14.00\">Normal</text>\n</g>\n<!-- α, general rate of liking&#45;&gt;likes BA -->\n<g id=\"edge13\" class=\"edge\">\n<title>α, general rate of liking&#45;&gt;likes BA</title>\n<path fill=\"none\" stroke=\"black\" d=\"M359.24,-243.5C381.44,-233.89 406.82,-224.44 431,-218.93 557.72,-190.03 597.55,-236.95 723,-202.95 729.58,-201.17 736.26,-198.72 742.75,-195.94\"/>\n<polygon fill=\"black\" stroke=\"black\" points=\"743.77,-199.32 751.38,-191.95 740.83,-192.96 743.77,-199.32\"/>\n</g>\n<!-- α, general rate of liking&#45;&gt;likes AB -->\n<g id=\"edge10\" class=\"edge\">\n<title>α, general rate of liking&#45;&gt;likes AB</title>\n<path fill=\"none\" stroke=\"black\" d=\"M363.71,-244.29C385,-235.35 408.73,-226.09 431,-218.93 484.03,-201.89 545.71,-187.96 591.22,-178.74\"/>\n<polygon fill=\"black\" stroke=\"black\" points=\"591.83,-182.19 600.95,-176.8 590.46,-175.33 591.83,-182.19\"/>\n</g>\n<!-- Monk like reciprocity -->\n<g id=\"node9\" class=\"node\">\n<title>Monk like reciprocity</title>\n<polygon fill=\"none\" stroke=\"black\" points=\"168,-191.98 0,-191.98 0,-138.98 168,-138.98 168,-191.98\"/>\n<text text-anchor=\"middle\" x=\"84\" y=\"-176.78\" font-family=\"Times,serif\" font-size=\"14.00\">Monk like reciprocity</text>\n<text text-anchor=\"middle\" x=\"84\" y=\"-161.78\" font-family=\"Times,serif\" font-size=\"14.00\">~</text>\n<text text-anchor=\"middle\" x=\"84\" y=\"-146.78\" font-family=\"Times,serif\" font-size=\"14.00\">Deterministic</text>\n</g>\n<!-- Z -->\n<g id=\"node10\" class=\"node\">\n<title>Z</title>\n<ellipse fill=\"none\" stroke=\"black\" cx=\"865\" cy=\"-390.38\" rx=\"49.49\" ry=\"37.45\"/>\n<text text-anchor=\"middle\" x=\"865\" y=\"-401.68\" font-family=\"Times,serif\" font-size=\"14.00\">Z</text>\n<text text-anchor=\"middle\" x=\"865\" y=\"-386.68\" font-family=\"Times,serif\" font-size=\"14.00\">~</text>\n<text text-anchor=\"middle\" x=\"865\" y=\"-371.68\" font-family=\"Times,serif\" font-size=\"14.00\">Normal</text>\n</g>\n<!-- Z&#45;&gt;T_AB, tie A to B -->\n<g id=\"edge5\" class=\"edge\">\n<title>Z&#45;&gt;T_AB, tie A to B</title>\n<path fill=\"none\" stroke=\"black\" d=\"M824.9,-367.8C793.74,-351.03 750.08,-327.53 715.1,-308.7\"/>\n<polygon fill=\"black\" stroke=\"black\" points=\"716.81,-305.65 706.35,-303.99 713.49,-311.81 716.81,-305.65\"/>\n</g>\n<!-- Z&#45;&gt;T_BA, tie B to A -->\n<g id=\"edge7\" class=\"edge\">\n<title>Z&#45;&gt;T_BA, tie B to A</title>\n<path fill=\"none\" stroke=\"black\" d=\"M884.8,-355.79C892.81,-342.21 902.05,-326.53 910.16,-312.78\"/>\n<polygon fill=\"black\" stroke=\"black\" points=\"913,-314.86 915.06,-304.47 906.97,-311.31 913,-314.86\"/>\n</g>\n<!-- monk_ties -->\n<g id=\"node11\" class=\"node\">\n<title>monk_ties</title>\n<ellipse fill=\"none\" stroke=\"black\" cx=\"559\" cy=\"-390.38\" rx=\"98.99\" ry=\"37.45\"/>\n<text text-anchor=\"middle\" x=\"559\" y=\"-401.68\" font-family=\"Times,serif\" font-size=\"14.00\">monk_ties</text>\n<text text-anchor=\"middle\" x=\"559\" y=\"-386.68\" font-family=\"Times,serif\" font-size=\"14.00\">~</text>\n<text text-anchor=\"middle\" x=\"559\" y=\"-371.68\" font-family=\"Times,serif\" font-size=\"14.00\">_LKJCholeskyCov</text>\n</g>\n<!-- monk_ties&#45;&gt;T_AB, tie A to B -->\n<g id=\"edge6\" class=\"edge\">\n<title>monk_ties&#45;&gt;T_AB, tie A to B</title>\n<path fill=\"none\" stroke=\"black\" d=\"M589.47,-354.57C601.36,-340.99 614.96,-325.45 626.82,-311.9\"/>\n<polygon fill=\"black\" stroke=\"black\" points=\"629.38,-314.29 633.34,-304.46 624.12,-309.68 629.38,-314.29\"/>\n</g>\n<!-- monk_ties&#45;&gt;T_BA, tie B to A -->\n<g id=\"edge8\" class=\"edge\">\n<title>monk_ties&#45;&gt;T_BA, tie B to A</title>\n<path fill=\"none\" stroke=\"black\" d=\"M628.91,-363.65C670.98,-349.17 725.92,-332.03 776,-321.91 811.89,-314.65 822.81,-324.04 858,-313.91 863.56,-312.31 869.2,-310.29 874.76,-308.03\"/>\n<polygon fill=\"black\" stroke=\"black\" points=\"876.15,-311.24 883.91,-304.03 873.35,-304.82 876.15,-311.24\"/>\n</g>\n<!-- monk_ties_corr -->\n<g id=\"node12\" class=\"node\">\n<title>monk_ties_corr</title>\n<polygon fill=\"none\" stroke=\"black\" points=\"146.5,-302.93 21.5,-302.93 21.5,-249.93 146.5,-249.93 146.5,-302.93\"/>\n<text text-anchor=\"middle\" x=\"84\" y=\"-287.73\" font-family=\"Times,serif\" font-size=\"14.00\">monk_ties_corr</text>\n<text text-anchor=\"middle\" x=\"84\" y=\"-272.73\" font-family=\"Times,serif\" font-size=\"14.00\">~</text>\n<text text-anchor=\"middle\" x=\"84\" y=\"-257.73\" font-family=\"Times,serif\" font-size=\"14.00\">Deterministic</text>\n</g>\n<!-- monk_ties&#45;&gt;monk_ties_corr -->\n<g id=\"edge3\" class=\"edge\">\n<title>monk_ties&#45;&gt;monk_ties_corr</title>\n<path fill=\"none\" stroke=\"black\" d=\"M463.95,-379.52C380.8,-369.04 257.62,-349.01 155,-313.91 150.02,-312.2 144.95,-310.2 139.93,-308.03\"/>\n<polygon fill=\"black\" stroke=\"black\" points=\"141.67,-304.97 131.12,-303.99 138.76,-311.34 141.67,-304.97\"/>\n</g>\n<!-- monk_ties_stds -->\n<g id=\"node13\" class=\"node\">\n<title>monk_ties_stds</title>\n<polygon fill=\"none\" stroke=\"black\" points=\"568.5,-302.93 443.5,-302.93 443.5,-249.93 568.5,-249.93 568.5,-302.93\"/>\n<text text-anchor=\"middle\" x=\"506\" y=\"-287.73\" font-family=\"Times,serif\" font-size=\"14.00\">monk_ties_stds</text>\n<text text-anchor=\"middle\" x=\"506\" y=\"-272.73\" font-family=\"Times,serif\" font-size=\"14.00\">~</text>\n<text text-anchor=\"middle\" x=\"506\" y=\"-257.73\" font-family=\"Times,serif\" font-size=\"14.00\">Deterministic</text>\n</g>\n<!-- monk_ties&#45;&gt;monk_ties_stds -->\n<g id=\"edge4\" class=\"edge\">\n<title>monk_ties&#45;&gt;monk_ties_stds</title>\n<path fill=\"none\" stroke=\"black\" d=\"M541.79,-353.04C535.79,-340.37 529.07,-326.16 523.08,-313.51\"/>\n<polygon fill=\"black\" stroke=\"black\" points=\"526.35,-312.23 518.91,-304.69 520.02,-315.23 526.35,-312.23\"/>\n</g>\n<!-- monk_ties_corr&#45;&gt;Monk like reciprocity -->\n<g id=\"edge9\" class=\"edge\">\n<title>monk_ties_corr&#45;&gt;Monk like reciprocity</title>\n<path fill=\"none\" stroke=\"black\" d=\"M84,-249.61C84,-235.77 84,-218.48 84,-203.26\"/>\n<polygon fill=\"black\" stroke=\"black\" points=\"87.5,-203.63 84,-193.63 80.5,-203.63 87.5,-203.63\"/>\n</g>\n</g>\n</svg>\n",
      "text/plain": [
       "<graphviz.graphs.Digraph at 0x7fa2084eaf10>"
      ]
     },
     "execution_count": 99,
     "metadata": {},
     "output_type": "execute_result"
    }
   ],
   "source": [
    "pm.model_to_graphviz(ex1_model)"
   ]
  },
  {
   "cell_type": "code",
   "execution_count": 100,
   "metadata": {},
   "outputs": [
    {
     "name": "stdout",
     "output_type": "stream",
     "text": [
      "Compiling...\n",
      "Compilation time =  0:00:02.524101\n",
      "Sampling...\n",
      "Sampling time =  0:00:06.363817\n",
      "Transforming variables...\n",
      "Transformation time =  0:00:01.299514\n"
     ]
    }
   ],
   "source": [
    "with ex1_model:\n",
    "    ex1_trace = sampling_jax.sample_blackjax_nuts()"
   ]
  },
  {
   "cell_type": "code",
   "execution_count": 101,
   "metadata": {},
   "outputs": [
    {
     "data": {
      "text/html": [
       "<div>\n",
       "<style scoped>\n",
       "    .dataframe tbody tr th:only-of-type {\n",
       "        vertical-align: middle;\n",
       "    }\n",
       "\n",
       "    .dataframe tbody tr th {\n",
       "        vertical-align: top;\n",
       "    }\n",
       "\n",
       "    .dataframe thead th {\n",
       "        text-align: right;\n",
       "    }\n",
       "</style>\n",
       "<table border=\"1\" class=\"dataframe\">\n",
       "  <thead>\n",
       "    <tr style=\"text-align: right;\">\n",
       "      <th></th>\n",
       "      <th>mean</th>\n",
       "      <th>sd</th>\n",
       "      <th>hdi_3%</th>\n",
       "      <th>hdi_97%</th>\n",
       "      <th>mcse_mean</th>\n",
       "      <th>mcse_sd</th>\n",
       "      <th>ess_bulk</th>\n",
       "      <th>ess_tail</th>\n",
       "      <th>r_hat</th>\n",
       "    </tr>\n",
       "  </thead>\n",
       "  <tbody>\n",
       "    <tr>\n",
       "      <th>α, general rate of liking</th>\n",
       "      <td>-4.401</td>\n",
       "      <td>0.450</td>\n",
       "      <td>-5.252</td>\n",
       "      <td>-3.572</td>\n",
       "      <td>0.009</td>\n",
       "      <td>0.006</td>\n",
       "      <td>2507.0</td>\n",
       "      <td>2141.0</td>\n",
       "      <td>1.0</td>\n",
       "    </tr>\n",
       "    <tr>\n",
       "      <th>Monk like reciprocity</th>\n",
       "      <td>0.659</td>\n",
       "      <td>0.105</td>\n",
       "      <td>0.461</td>\n",
       "      <td>0.841</td>\n",
       "      <td>0.003</td>\n",
       "      <td>0.002</td>\n",
       "      <td>1093.0</td>\n",
       "      <td>1820.0</td>\n",
       "      <td>1.0</td>\n",
       "    </tr>\n",
       "  </tbody>\n",
       "</table>\n",
       "</div>"
      ],
      "text/plain": [
       "                            mean     sd  hdi_3%  hdi_97%  mcse_mean  mcse_sd  \\\n",
       "α, general rate of liking -4.401  0.450  -5.252   -3.572      0.009    0.006   \n",
       "Monk like reciprocity      0.659  0.105   0.461    0.841      0.003    0.002   \n",
       "\n",
       "                           ess_bulk  ess_tail  r_hat  \n",
       "α, general rate of liking    2507.0    2141.0    1.0  \n",
       "Monk like reciprocity        1093.0    1820.0    1.0  "
      ]
     },
     "execution_count": 101,
     "metadata": {},
     "output_type": "execute_result"
    }
   ],
   "source": [
    "az.summary(\n",
    "    ex1_trace, \n",
    "    var_names=['α, general rate of liking', 'Monk like reciprocity'], \n",
    ")"
   ]
  },
  {
   "cell_type": "markdown",
   "metadata": {},
   "source": [
    "## Adding dislike nominations"
   ]
  },
  {
   "cell_type": "code",
   "execution_count": 150,
   "metadata": {},
   "outputs": [],
   "source": [
    "def dislikes_using_likes(data, RVs):\n",
    "    data['disliked_by_A'] = pm.MutableData(\"disliked_by_A\", monks['dislike_AB'], dims='dyads')\n",
    "    data['disliked_by_B'] = pm.MutableData(\"disliked_by_B\", monks['dislike_BA'], dims='dyads')\n",
    "\n",
    "    #parameters\n",
    "    RVs['β'] = pm.Normal('β, general rate of disliking', -2, 1) #the general possibility of disliking should be quite low\n",
    "    RVs['γ'] = pm.Normal('γ, impact of social tie on disliking', 0, 1) #this will allow using the same social tie variable, but moderate/reverse its effect\n",
    "\n",
    "    "
   ]
  },
  {
   "cell_type": "code",
   "execution_count": 151,
   "metadata": {},
   "outputs": [],
   "source": [
    "with pm.Model(coords=coords) as ex2_model:\n",
    "    \n",
    "    data = {}\n",
    "    RVs = {}\n",
    "    likes(data, RVs)\n",
    "    dislikes_using_likes(data, RVs)\n",
    "\n",
    "    #two binomial models for liking (same as before)\n",
    "    #A -> B model\n",
    "    logit_p_AB = RVs['α'] + RVs['AB_like'] \n",
    "    pm.Binomial(\"likes AB\", n = data['attempts'], logit_p = logit_p_AB, dims='dyads', observed = data['liked_by_A'])\n",
    "\n",
    "    #B -> A model\n",
    "    logit_p_BA = RVs['α'] + RVs['BA_like'] \n",
    "    pm.Binomial(\"likes BA\", n = data['attempts'], logit_p = logit_p_BA, dims='dyads', observed = data['liked_by_B'])\n",
    "\n",
    "    #two more binomial models for disliking\n",
    "    #A -> B model\n",
    "    logit_dislike_AB = RVs['β'] + RVs['γ'] * RVs['AB_like'] \n",
    "    pm.Binomial(\"dislikes AB\", n = data['attempts'], logit_p = logit_dislike_AB, dims='dyads', observed = data['disliked_by_A'])\n",
    "\n",
    "    #B -> A model\n",
    "    logit_dislike_BA = RVs['β'] + RVs['γ'] * RVs['BA_like'] \n",
    "    pm.Binomial(\"dislikes BA\", n = data['attempts'], logit_p = logit_dislike_BA, dims='dyads', observed = data['disliked_by_B'])\n"
   ]
  },
  {
   "cell_type": "code",
   "execution_count": 104,
   "metadata": {},
   "outputs": [
    {
     "data": {
      "image/svg+xml": "<?xml version=\"1.0\" encoding=\"UTF-8\" standalone=\"no\"?>\n<!DOCTYPE svg PUBLIC \"-//W3C//DTD SVG 1.1//EN\"\n \"http://www.w3.org/Graphics/SVG/1.1/DTD/svg11.dtd\">\n<!-- Generated by graphviz version 7.1.0 (20230122.1345)\n -->\n<!-- Pages: 1 -->\n<svg width=\"1838pt\" height=\"452pt\"\n viewBox=\"0.00 0.00 1837.81 451.86\" xmlns=\"http://www.w3.org/2000/svg\" xmlns:xlink=\"http://www.w3.org/1999/xlink\">\n<g id=\"graph0\" class=\"graph\" transform=\"scale(1 1) rotate(0) translate(4 447.86)\">\n<polygon fill=\"white\" stroke=\"none\" points=\"-4,4 -4,-447.86 1833.81,-447.86 1833.81,4 -4,4\"/>\n<g id=\"clust1\" class=\"cluster\">\n<title>clusterdyads (153)</title>\n<path fill=\"none\" stroke=\"black\" d=\"M699,-8C699,-8 1240,-8 1240,-8 1246,-8 1252,-14 1252,-20 1252,-20 1252,-298.93 1252,-298.93 1252,-304.93 1246,-310.93 1240,-310.93 1240,-310.93 699,-310.93 699,-310.93 693,-310.93 687,-304.93 687,-298.93 687,-298.93 687,-20 687,-20 687,-14 693,-8 699,-8\"/>\n<text text-anchor=\"middle\" x=\"1201.5\" y=\"-15.8\" font-family=\"Times,serif\" font-size=\"14.00\">dyads (153)</text>\n</g>\n<g id=\"clust2\" class=\"cluster\">\n<title>clusterpair (2) x dyads (153)</title>\n<path fill=\"none\" stroke=\"black\" d=\"M916,-321.91C916,-321.91 1062,-321.91 1062,-321.91 1068,-321.91 1074,-327.91 1074,-333.91 1074,-333.91 1074,-423.86 1074,-423.86 1074,-429.86 1068,-435.86 1062,-435.86 1062,-435.86 916,-435.86 916,-435.86 910,-435.86 904,-429.86 904,-423.86 904,-423.86 904,-333.91 904,-333.91 904,-327.91 910,-321.91 916,-321.91\"/>\n<text text-anchor=\"middle\" x=\"989\" y=\"-329.71\" font-family=\"Times,serif\" font-size=\"14.00\">pair (2) x dyads (153)</text>\n</g>\n<g id=\"clust3\" class=\"cluster\">\n<title>cluster3</title>\n<path fill=\"none\" stroke=\"black\" d=\"M566,-321.91C566,-321.91 756,-321.91 756,-321.91 762,-321.91 768,-327.91 768,-333.91 768,-333.91 768,-423.86 768,-423.86 768,-429.86 762,-435.86 756,-435.86 756,-435.86 566,-435.86 566,-435.86 560,-435.86 554,-429.86 554,-423.86 554,-423.86 554,-333.91 554,-333.91 554,-327.91 560,-321.91 566,-321.91\"/>\n<text text-anchor=\"middle\" x=\"755\" y=\"-329.71\" font-family=\"Times,serif\" font-size=\"14.00\">3</text>\n</g>\n<g id=\"clust4\" class=\"cluster\">\n<title>cluster2 x 2</title>\n<path fill=\"none\" stroke=\"black\" d=\"M25,-218.93C25,-218.93 143,-218.93 143,-218.93 149,-218.93 155,-224.93 155,-230.93 155,-230.93 155,-298.93 155,-298.93 155,-304.93 149,-310.93 143,-310.93 143,-310.93 25,-310.93 25,-310.93 19,-310.93 13,-304.93 13,-298.93 13,-298.93 13,-230.93 13,-230.93 13,-224.93 19,-218.93 25,-218.93\"/>\n<text text-anchor=\"middle\" x=\"129\" y=\"-226.73\" font-family=\"Times,serif\" font-size=\"14.00\">2 x 2</text>\n</g>\n<g id=\"clust5\" class=\"cluster\">\n<title>cluster2</title>\n<path fill=\"none\" stroke=\"black\" d=\"M549,-218.93C549,-218.93 667,-218.93 667,-218.93 673,-218.93 679,-224.93 679,-230.93 679,-230.93 679,-298.93 679,-298.93 679,-304.93 673,-310.93 667,-310.93 667,-310.93 549,-310.93 549,-310.93 543,-310.93 537,-304.93 537,-298.93 537,-298.93 537,-230.93 537,-230.93 537,-224.93 543,-218.93 549,-218.93\"/>\n<text text-anchor=\"middle\" x=\"666\" y=\"-226.73\" font-family=\"Times,serif\" font-size=\"14.00\">2</text>\n</g>\n<!-- disliked_by_A -->\n<g id=\"node1\" class=\"node\">\n<title>disliked_by_A</title>\n<path fill=\"lightgrey\" stroke=\"black\" d=\"M958.5,-92C958.5,-92 869.5,-92 869.5,-92 863.5,-92 857.5,-86 857.5,-80 857.5,-80 857.5,-51 857.5,-51 857.5,-45 863.5,-39 869.5,-39 869.5,-39 958.5,-39 958.5,-39 964.5,-39 970.5,-45 970.5,-51 970.5,-51 970.5,-80 970.5,-80 970.5,-86 964.5,-92 958.5,-92\"/>\n<text text-anchor=\"middle\" x=\"914\" y=\"-76.8\" font-family=\"Times,serif\" font-size=\"14.00\">disliked_by_A</text>\n<text text-anchor=\"middle\" x=\"914\" y=\"-61.8\" font-family=\"Times,serif\" font-size=\"14.00\">~</text>\n<text text-anchor=\"middle\" x=\"914\" y=\"-46.8\" font-family=\"Times,serif\" font-size=\"14.00\">MutableData</text>\n</g>\n<!-- dislikes AB -->\n<g id=\"node2\" class=\"node\">\n<title>dislikes AB</title>\n<ellipse fill=\"lightgrey\" stroke=\"black\" cx=\"914\" cy=\"-165.48\" rx=\"67.35\" ry=\"37.45\"/>\n<text text-anchor=\"middle\" x=\"914\" y=\"-176.78\" font-family=\"Times,serif\" font-size=\"14.00\">dislikes AB</text>\n<text text-anchor=\"middle\" x=\"914\" y=\"-161.78\" font-family=\"Times,serif\" font-size=\"14.00\">~</text>\n<text text-anchor=\"middle\" x=\"914\" y=\"-146.78\" font-family=\"Times,serif\" font-size=\"14.00\">Binomial</text>\n</g>\n<!-- dislikes AB&#45;&gt;disliked_by_A -->\n<g id=\"edge10\" class=\"edge\">\n<title>dislikes AB&#45;&gt;disliked_by_A</title>\n<path fill=\"none\" stroke=\"black\" d=\"M914,-127.72C914,-119.93 914,-111.7 914,-103.89\"/>\n<polygon fill=\"black\" stroke=\"black\" points=\"917.5,-103.98 914,-93.98 910.5,-103.98 917.5,-103.98\"/>\n</g>\n<!-- liked_by_B -->\n<g id=\"node3\" class=\"node\">\n<title>liked_by_B</title>\n<path fill=\"lightgrey\" stroke=\"black\" d=\"M1099,-92C1099,-92 1013,-92 1013,-92 1007,-92 1001,-86 1001,-80 1001,-80 1001,-51 1001,-51 1001,-45 1007,-39 1013,-39 1013,-39 1099,-39 1099,-39 1105,-39 1111,-45 1111,-51 1111,-51 1111,-80 1111,-80 1111,-86 1105,-92 1099,-92\"/>\n<text text-anchor=\"middle\" x=\"1056\" y=\"-76.8\" font-family=\"Times,serif\" font-size=\"14.00\">liked_by_B</text>\n<text text-anchor=\"middle\" x=\"1056\" y=\"-61.8\" font-family=\"Times,serif\" font-size=\"14.00\">~</text>\n<text text-anchor=\"middle\" x=\"1056\" y=\"-46.8\" font-family=\"Times,serif\" font-size=\"14.00\">MutableData</text>\n</g>\n<!-- attempts -->\n<g id=\"node4\" class=\"node\">\n<title>attempts</title>\n<path fill=\"lightgrey\" stroke=\"black\" d=\"M953,-302.93C953,-302.93 867,-302.93 867,-302.93 861,-302.93 855,-296.93 855,-290.93 855,-290.93 855,-261.93 855,-261.93 855,-255.93 861,-249.93 867,-249.93 867,-249.93 953,-249.93 953,-249.93 959,-249.93 965,-255.93 965,-261.93 965,-261.93 965,-290.93 965,-290.93 965,-296.93 959,-302.93 953,-302.93\"/>\n<text text-anchor=\"middle\" x=\"910\" y=\"-287.73\" font-family=\"Times,serif\" font-size=\"14.00\">attempts</text>\n<text text-anchor=\"middle\" x=\"910\" y=\"-272.73\" font-family=\"Times,serif\" font-size=\"14.00\">~</text>\n<text text-anchor=\"middle\" x=\"910\" y=\"-257.73\" font-family=\"Times,serif\" font-size=\"14.00\">MutableData</text>\n</g>\n<!-- attempts&#45;&gt;dislikes AB -->\n<g id=\"edge20\" class=\"edge\">\n<title>attempts&#45;&gt;dislikes AB</title>\n<path fill=\"none\" stroke=\"black\" d=\"M910.95,-249.61C911.33,-239.12 911.79,-226.64 912.23,-214.59\"/>\n<polygon fill=\"black\" stroke=\"black\" points=\"915.73,-214.88 912.59,-204.76 908.73,-214.62 915.73,-214.88\"/>\n</g>\n<!-- likes BA -->\n<g id=\"node5\" class=\"node\">\n<title>likes BA</title>\n<ellipse fill=\"lightgrey\" stroke=\"black\" cx=\"1056\" cy=\"-165.48\" rx=\"56.64\" ry=\"37.45\"/>\n<text text-anchor=\"middle\" x=\"1056\" y=\"-176.78\" font-family=\"Times,serif\" font-size=\"14.00\">likes BA</text>\n<text text-anchor=\"middle\" x=\"1056\" y=\"-161.78\" font-family=\"Times,serif\" font-size=\"14.00\">~</text>\n<text text-anchor=\"middle\" x=\"1056\" y=\"-146.78\" font-family=\"Times,serif\" font-size=\"14.00\">Binomial</text>\n</g>\n<!-- attempts&#45;&gt;likes BA -->\n<g id=\"edge16\" class=\"edge\">\n<title>attempts&#45;&gt;likes BA</title>\n<path fill=\"none\" stroke=\"black\" d=\"M937.25,-249.71C948.33,-239.7 961.46,-228.39 974,-218.93 983.81,-211.53 994.67,-204.1 1005.18,-197.25\"/>\n<polygon fill=\"black\" stroke=\"black\" points=\"1006.9,-200.31 1013.43,-191.97 1003.12,-194.42 1006.9,-200.31\"/>\n</g>\n<!-- likes AB -->\n<g id=\"node6\" class=\"node\">\n<title>likes AB</title>\n<ellipse fill=\"lightgrey\" stroke=\"black\" cx=\"1187\" cy=\"-165.48\" rx=\"56.64\" ry=\"37.45\"/>\n<text text-anchor=\"middle\" x=\"1187\" y=\"-176.78\" font-family=\"Times,serif\" font-size=\"14.00\">likes AB</text>\n<text text-anchor=\"middle\" x=\"1187\" y=\"-161.78\" font-family=\"Times,serif\" font-size=\"14.00\">~</text>\n<text text-anchor=\"middle\" x=\"1187\" y=\"-146.78\" font-family=\"Times,serif\" font-size=\"14.00\">Binomial</text>\n</g>\n<!-- attempts&#45;&gt;likes AB -->\n<g id=\"edge14\" class=\"edge\">\n<title>attempts&#45;&gt;likes AB</title>\n<path fill=\"none\" stroke=\"black\" d=\"M932.37,-249.44C943.65,-238.12 958.27,-225.87 974,-218.93 1034.53,-192.23 1058.98,-223.1 1122,-202.95 1126.85,-201.4 1131.74,-199.47 1136.54,-197.31\"/>\n<polygon fill=\"black\" stroke=\"black\" points=\"1138.07,-200.46 1145.52,-192.93 1135,-194.17 1138.07,-200.46\"/>\n</g>\n<!-- dislikes BA -->\n<g id=\"node9\" class=\"node\">\n<title>dislikes BA</title>\n<ellipse fill=\"lightgrey\" stroke=\"black\" cx=\"762\" cy=\"-165.48\" rx=\"67.35\" ry=\"37.45\"/>\n<text text-anchor=\"middle\" x=\"762\" y=\"-176.78\" font-family=\"Times,serif\" font-size=\"14.00\">dislikes BA</text>\n<text text-anchor=\"middle\" x=\"762\" y=\"-161.78\" font-family=\"Times,serif\" font-size=\"14.00\">~</text>\n<text text-anchor=\"middle\" x=\"762\" y=\"-146.78\" font-family=\"Times,serif\" font-size=\"14.00\">Binomial</text>\n</g>\n<!-- attempts&#45;&gt;dislikes BA -->\n<g id=\"edge23\" class=\"edge\">\n<title>attempts&#45;&gt;dislikes BA</title>\n<path fill=\"none\" stroke=\"black\" d=\"M878.58,-249.61C866.38,-239.8 852.19,-228.65 839,-218.93 831.05,-213.07 822.52,-207.03 814.13,-201.22\"/>\n<polygon fill=\"black\" stroke=\"black\" points=\"816.23,-198.41 806,-195.64 812.26,-204.18 816.23,-198.41\"/>\n</g>\n<!-- likes BA&#45;&gt;liked_by_B -->\n<g id=\"edge2\" class=\"edge\">\n<title>likes BA&#45;&gt;liked_by_B</title>\n<path fill=\"none\" stroke=\"black\" d=\"M1056,-127.72C1056,-119.93 1056,-111.7 1056,-103.89\"/>\n<polygon fill=\"black\" stroke=\"black\" points=\"1059.5,-103.98 1056,-93.98 1052.5,-103.98 1059.5,-103.98\"/>\n</g>\n<!-- liked_by_A -->\n<g id=\"node10\" class=\"node\">\n<title>liked_by_A</title>\n<path fill=\"lightgrey\" stroke=\"black\" d=\"M1230,-92C1230,-92 1144,-92 1144,-92 1138,-92 1132,-86 1132,-80 1132,-80 1132,-51 1132,-51 1132,-45 1138,-39 1144,-39 1144,-39 1230,-39 1230,-39 1236,-39 1242,-45 1242,-51 1242,-51 1242,-80 1242,-80 1242,-86 1236,-92 1230,-92\"/>\n<text text-anchor=\"middle\" x=\"1187\" y=\"-76.8\" font-family=\"Times,serif\" font-size=\"14.00\">liked_by_A</text>\n<text text-anchor=\"middle\" x=\"1187\" y=\"-61.8\" font-family=\"Times,serif\" font-size=\"14.00\">~</text>\n<text text-anchor=\"middle\" x=\"1187\" y=\"-46.8\" font-family=\"Times,serif\" font-size=\"14.00\">MutableData</text>\n</g>\n<!-- likes AB&#45;&gt;liked_by_A -->\n<g id=\"edge1\" class=\"edge\">\n<title>likes AB&#45;&gt;liked_by_A</title>\n<path fill=\"none\" stroke=\"black\" d=\"M1187,-127.72C1187,-119.93 1187,-111.7 1187,-103.89\"/>\n<polygon fill=\"black\" stroke=\"black\" points=\"1190.5,-103.98 1187,-93.98 1183.5,-103.98 1190.5,-103.98\"/>\n</g>\n<!-- T_AB, tie A to B -->\n<g id=\"node7\" class=\"node\">\n<title>T_AB, tie A to B</title>\n<polygon fill=\"none\" stroke=\"black\" points=\"1111,-302.93 983,-302.93 983,-249.93 1111,-249.93 1111,-302.93\"/>\n<text text-anchor=\"middle\" x=\"1047\" y=\"-287.73\" font-family=\"Times,serif\" font-size=\"14.00\">T_AB, tie A to B</text>\n<text text-anchor=\"middle\" x=\"1047\" y=\"-272.73\" font-family=\"Times,serif\" font-size=\"14.00\">~</text>\n<text text-anchor=\"middle\" x=\"1047\" y=\"-257.73\" font-family=\"Times,serif\" font-size=\"14.00\">Deterministic</text>\n</g>\n<!-- T_AB, tie A to B&#45;&gt;dislikes AB -->\n<g id=\"edge19\" class=\"edge\">\n<title>T_AB, tie A to B&#45;&gt;dislikes AB</title>\n<path fill=\"none\" stroke=\"black\" d=\"M1015.48,-249.61C998.85,-235.98 978.13,-219.01 959.76,-203.96\"/>\n<polygon fill=\"black\" stroke=\"black\" points=\"962.08,-201.34 952.12,-197.71 957.64,-206.75 962.08,-201.34\"/>\n</g>\n<!-- T_AB, tie A to B&#45;&gt;likes AB -->\n<g id=\"edge13\" class=\"edge\">\n<title>T_AB, tie A to B&#45;&gt;likes AB</title>\n<path fill=\"none\" stroke=\"black\" d=\"M1080.18,-249.61C1098.69,-235.2 1122,-217.06 1142.13,-201.4\"/>\n<polygon fill=\"black\" stroke=\"black\" points=\"1144.18,-204.24 1149.92,-195.33 1139.88,-198.71 1144.18,-204.24\"/>\n</g>\n<!-- T_BA, tie B to A -->\n<g id=\"node8\" class=\"node\">\n<title>T_BA, tie B to A</title>\n<polygon fill=\"none\" stroke=\"black\" points=\"830,-302.93 702,-302.93 702,-249.93 830,-249.93 830,-302.93\"/>\n<text text-anchor=\"middle\" x=\"766\" y=\"-287.73\" font-family=\"Times,serif\" font-size=\"14.00\">T_BA, tie B to A</text>\n<text text-anchor=\"middle\" x=\"766\" y=\"-272.73\" font-family=\"Times,serif\" font-size=\"14.00\">~</text>\n<text text-anchor=\"middle\" x=\"766\" y=\"-257.73\" font-family=\"Times,serif\" font-size=\"14.00\">Deterministic</text>\n</g>\n<!-- T_BA, tie B to A&#45;&gt;likes BA -->\n<g id=\"edge17\" class=\"edge\">\n<title>T_BA, tie B to A&#45;&gt;likes BA</title>\n<path fill=\"none\" stroke=\"black\" d=\"M795.06,-249.5C809.4,-238.18 827.56,-225.93 846,-218.93 906.2,-196.08 928.63,-222.46 990,-202.95 995.11,-201.33 1000.28,-199.29 1005.35,-197.01\"/>\n<polygon fill=\"black\" stroke=\"black\" points=\"1006.75,-200.22 1014.22,-192.71 1003.69,-193.92 1006.75,-200.22\"/>\n</g>\n<!-- T_BA, tie B to A&#45;&gt;dislikes BA -->\n<g id=\"edge24\" class=\"edge\">\n<title>T_BA, tie B to A&#45;&gt;dislikes BA</title>\n<path fill=\"none\" stroke=\"black\" d=\"M765.05,-249.61C764.67,-239.12 764.21,-226.64 763.77,-214.59\"/>\n<polygon fill=\"black\" stroke=\"black\" points=\"767.27,-214.62 763.41,-204.76 760.27,-214.88 767.27,-214.62\"/>\n</g>\n<!-- disliked_by_B -->\n<g id=\"node11\" class=\"node\">\n<title>disliked_by_B</title>\n<path fill=\"lightgrey\" stroke=\"black\" d=\"M806.5,-92C806.5,-92 717.5,-92 717.5,-92 711.5,-92 705.5,-86 705.5,-80 705.5,-80 705.5,-51 705.5,-51 705.5,-45 711.5,-39 717.5,-39 717.5,-39 806.5,-39 806.5,-39 812.5,-39 818.5,-45 818.5,-51 818.5,-51 818.5,-80 818.5,-80 818.5,-86 812.5,-92 806.5,-92\"/>\n<text text-anchor=\"middle\" x=\"762\" y=\"-76.8\" font-family=\"Times,serif\" font-size=\"14.00\">disliked_by_B</text>\n<text text-anchor=\"middle\" x=\"762\" y=\"-61.8\" font-family=\"Times,serif\" font-size=\"14.00\">~</text>\n<text text-anchor=\"middle\" x=\"762\" y=\"-46.8\" font-family=\"Times,serif\" font-size=\"14.00\">MutableData</text>\n</g>\n<!-- dislikes BA&#45;&gt;disliked_by_B -->\n<g id=\"edge11\" class=\"edge\">\n<title>dislikes BA&#45;&gt;disliked_by_B</title>\n<path fill=\"none\" stroke=\"black\" d=\"M762,-127.72C762,-119.93 762,-111.7 762,-103.89\"/>\n<polygon fill=\"black\" stroke=\"black\" points=\"765.5,-103.98 762,-93.98 758.5,-103.98 765.5,-103.98\"/>\n</g>\n<!-- β, general rate of disliking -->\n<g id=\"node12\" class=\"node\">\n<title>β, general rate of disliking</title>\n<ellipse fill=\"none\" stroke=\"black\" cx=\"1405\" cy=\"-276.43\" rx=\"144.91\" ry=\"37.45\"/>\n<text text-anchor=\"middle\" x=\"1405\" y=\"-287.73\" font-family=\"Times,serif\" font-size=\"14.00\">β, general rate of disliking</text>\n<text text-anchor=\"middle\" x=\"1405\" y=\"-272.73\" font-family=\"Times,serif\" font-size=\"14.00\">~</text>\n<text text-anchor=\"middle\" x=\"1405\" y=\"-257.73\" font-family=\"Times,serif\" font-size=\"14.00\">Normal</text>\n</g>\n<!-- β, general rate of disliking&#45;&gt;dislikes AB -->\n<g id=\"edge18\" class=\"edge\">\n<title>β, general rate of disliking&#45;&gt;dislikes AB</title>\n<path fill=\"none\" stroke=\"black\" d=\"M1333.95,-243.48C1309.7,-233.93 1282.1,-224.53 1256,-218.93 1140.2,-194.1 1104.64,-232.68 990,-202.95 983.83,-201.35 977.56,-199.24 971.4,-196.84\"/>\n<polygon fill=\"black\" stroke=\"black\" points=\"973.15,-193.78 962.57,-193.14 970.44,-200.23 973.15,-193.78\"/>\n</g>\n<!-- β, general rate of disliking&#45;&gt;dislikes BA -->\n<g id=\"edge22\" class=\"edge\">\n<title>β, general rate of disliking&#45;&gt;dislikes BA</title>\n<path fill=\"none\" stroke=\"black\" d=\"M1334.4,-243.3C1310.06,-233.67 1282.3,-224.27 1256,-218.93 1164.9,-200.43 928.23,-225.31 838,-202.95 831.81,-201.42 825.53,-199.35 819.36,-196.98\"/>\n<polygon fill=\"black\" stroke=\"black\" points=\"821.11,-193.91 810.53,-193.31 818.42,-200.38 821.11,-193.91\"/>\n</g>\n<!-- α, general rate of liking -->\n<g id=\"node13\" class=\"node\">\n<title>α, general rate of liking</title>\n<ellipse fill=\"none\" stroke=\"black\" cx=\"1699\" cy=\"-276.43\" rx=\"130.63\" ry=\"37.45\"/>\n<text text-anchor=\"middle\" x=\"1699\" y=\"-287.73\" font-family=\"Times,serif\" font-size=\"14.00\">α, general rate of liking</text>\n<text text-anchor=\"middle\" x=\"1699\" y=\"-272.73\" font-family=\"Times,serif\" font-size=\"14.00\">~</text>\n<text text-anchor=\"middle\" x=\"1699\" y=\"-257.73\" font-family=\"Times,serif\" font-size=\"14.00\">Normal</text>\n</g>\n<!-- α, general rate of liking&#45;&gt;likes BA -->\n<g id=\"edge15\" class=\"edge\">\n<title>α, general rate of liking&#45;&gt;likes BA</title>\n<path fill=\"none\" stroke=\"black\" d=\"M1633.55,-243.55C1610.53,-233.82 1584.12,-224.29 1559,-218.93 1463.74,-198.62 1214.77,-229.3 1121,-202.95 1115.9,-201.52 1110.76,-199.61 1105.74,-197.41\"/>\n<polygon fill=\"black\" stroke=\"black\" points=\"1107.51,-194.39 1096.98,-193.22 1104.49,-200.7 1107.51,-194.39\"/>\n</g>\n<!-- α, general rate of liking&#45;&gt;likes AB -->\n<g id=\"edge12\" class=\"edge\">\n<title>α, general rate of liking&#45;&gt;likes AB</title>\n<path fill=\"none\" stroke=\"black\" d=\"M1631.07,-244.14C1608.53,-234.82 1583.05,-225.38 1559,-218.93 1454.88,-191.03 1330.16,-177.29 1254.83,-171.06\"/>\n<polygon fill=\"black\" stroke=\"black\" points=\"1255.39,-167.59 1245.14,-170.28 1254.82,-174.57 1255.39,-167.59\"/>\n</g>\n<!-- Monk like reciprocity -->\n<g id=\"node14\" class=\"node\">\n<title>Monk like reciprocity</title>\n<polygon fill=\"none\" stroke=\"black\" points=\"168,-191.98 0,-191.98 0,-138.98 168,-138.98 168,-191.98\"/>\n<text text-anchor=\"middle\" x=\"84\" y=\"-176.78\" font-family=\"Times,serif\" font-size=\"14.00\">Monk like reciprocity</text>\n<text text-anchor=\"middle\" x=\"84\" y=\"-161.78\" font-family=\"Times,serif\" font-size=\"14.00\">~</text>\n<text text-anchor=\"middle\" x=\"84\" y=\"-146.78\" font-family=\"Times,serif\" font-size=\"14.00\">Deterministic</text>\n</g>\n<!-- γ, impact of social tie on disliking -->\n<g id=\"node15\" class=\"node\">\n<title>γ, impact of social tie on disliking</title>\n<ellipse fill=\"none\" stroke=\"black\" cx=\"346\" cy=\"-276.43\" rx=\"181.04\" ry=\"37.45\"/>\n<text text-anchor=\"middle\" x=\"346\" y=\"-287.73\" font-family=\"Times,serif\" font-size=\"14.00\">γ, impact of social tie on disliking</text>\n<text text-anchor=\"middle\" x=\"346\" y=\"-272.73\" font-family=\"Times,serif\" font-size=\"14.00\">~</text>\n<text text-anchor=\"middle\" x=\"346\" y=\"-257.73\" font-family=\"Times,serif\" font-size=\"14.00\">Normal</text>\n</g>\n<!-- γ, impact of social tie on disliking&#45;&gt;dislikes AB -->\n<g id=\"edge21\" class=\"edge\">\n<title>γ, impact of social tie on disliking&#45;&gt;dislikes AB</title>\n<path fill=\"none\" stroke=\"black\" d=\"M435.77,-243.52C466.25,-233.97 500.76,-224.56 533,-218.93 666.72,-195.58 706.48,-236.52 838,-202.95 844.18,-201.38 850.45,-199.28 856.62,-196.89\"/>\n<polygon fill=\"black\" stroke=\"black\" points=\"857.56,-200.28 865.44,-193.2 854.87,-193.82 857.56,-200.28\"/>\n</g>\n<!-- γ, impact of social tie on disliking&#45;&gt;dislikes BA -->\n<g id=\"edge25\" class=\"edge\">\n<title>γ, impact of social tie on disliking&#45;&gt;dislikes BA</title>\n<path fill=\"none\" stroke=\"black\" d=\"M443.66,-244.55C472.33,-235.86 503.82,-226.67 533,-218.93 584.61,-205.24 643.31,-191.84 688.37,-182\"/>\n<polygon fill=\"black\" stroke=\"black\" points=\"689.01,-185.45 698.03,-179.9 687.52,-178.61 689.01,-185.45\"/>\n</g>\n<!-- Z -->\n<g id=\"node16\" class=\"node\">\n<title>Z</title>\n<ellipse fill=\"none\" stroke=\"black\" cx=\"989\" cy=\"-390.38\" rx=\"49.49\" ry=\"37.45\"/>\n<text text-anchor=\"middle\" x=\"989\" y=\"-401.68\" font-family=\"Times,serif\" font-size=\"14.00\">Z</text>\n<text text-anchor=\"middle\" x=\"989\" y=\"-386.68\" font-family=\"Times,serif\" font-size=\"14.00\">~</text>\n<text text-anchor=\"middle\" x=\"989\" y=\"-371.68\" font-family=\"Times,serif\" font-size=\"14.00\">Normal</text>\n</g>\n<!-- Z&#45;&gt;T_AB, tie A to B -->\n<g id=\"edge5\" class=\"edge\">\n<title>Z&#45;&gt;T_AB, tie A to B</title>\n<path fill=\"none\" stroke=\"black\" d=\"M1006.72,-355.19C1013.62,-341.86 1021.53,-326.59 1028.51,-313.13\"/>\n<polygon fill=\"black\" stroke=\"black\" points=\"1031.44,-315.08 1032.93,-304.59 1025.22,-311.86 1031.44,-315.08\"/>\n</g>\n<!-- Z&#45;&gt;T_BA, tie B to A -->\n<g id=\"edge7\" class=\"edge\">\n<title>Z&#45;&gt;T_BA, tie B to A</title>\n<path fill=\"none\" stroke=\"black\" d=\"M948.1,-368.85C914.39,-351.93 866.07,-327.67 827.67,-308.39\"/>\n<polygon fill=\"black\" stroke=\"black\" points=\"829.49,-305.39 818.99,-304.03 826.35,-311.65 829.49,-305.39\"/>\n</g>\n<!-- monk_ties -->\n<g id=\"node17\" class=\"node\">\n<title>monk_ties</title>\n<ellipse fill=\"none\" stroke=\"black\" cx=\"661\" cy=\"-390.38\" rx=\"98.99\" ry=\"37.45\"/>\n<text text-anchor=\"middle\" x=\"661\" y=\"-401.68\" font-family=\"Times,serif\" font-size=\"14.00\">monk_ties</text>\n<text text-anchor=\"middle\" x=\"661\" y=\"-386.68\" font-family=\"Times,serif\" font-size=\"14.00\">~</text>\n<text text-anchor=\"middle\" x=\"661\" y=\"-371.68\" font-family=\"Times,serif\" font-size=\"14.00\">_LKJCholeskyCov</text>\n</g>\n<!-- monk_ties&#45;&gt;T_AB, tie A to B -->\n<g id=\"edge6\" class=\"edge\">\n<title>monk_ties&#45;&gt;T_AB, tie A to B</title>\n<path fill=\"none\" stroke=\"black\" d=\"M734.78,-365.09C781.63,-350.54 843.81,-332.8 900,-321.91 932.48,-315.61 942.26,-323.22 974,-313.91 979.55,-312.28 985.19,-310.24 990.74,-307.97\"/>\n<polygon fill=\"black\" stroke=\"black\" points=\"992.14,-311.18 999.89,-303.95 989.33,-304.76 992.14,-311.18\"/>\n</g>\n<!-- monk_ties&#45;&gt;T_BA, tie B to A -->\n<g id=\"edge8\" class=\"edge\">\n<title>monk_ties&#45;&gt;T_BA, tie B to A</title>\n<path fill=\"none\" stroke=\"black\" d=\"M693.65,-354.57C706.51,-340.86 721.24,-325.16 734.03,-311.52\"/>\n<polygon fill=\"black\" stroke=\"black\" points=\"736.39,-314.12 740.68,-304.43 731.29,-309.33 736.39,-314.12\"/>\n</g>\n<!-- monk_ties_corr -->\n<g id=\"node18\" class=\"node\">\n<title>monk_ties_corr</title>\n<polygon fill=\"none\" stroke=\"black\" points=\"146.5,-302.93 21.5,-302.93 21.5,-249.93 146.5,-249.93 146.5,-302.93\"/>\n<text text-anchor=\"middle\" x=\"84\" y=\"-287.73\" font-family=\"Times,serif\" font-size=\"14.00\">monk_ties_corr</text>\n<text text-anchor=\"middle\" x=\"84\" y=\"-272.73\" font-family=\"Times,serif\" font-size=\"14.00\">~</text>\n<text text-anchor=\"middle\" x=\"84\" y=\"-257.73\" font-family=\"Times,serif\" font-size=\"14.00\">Deterministic</text>\n</g>\n<!-- monk_ties&#45;&gt;monk_ties_corr -->\n<g id=\"edge3\" class=\"edge\">\n<title>monk_ties&#45;&gt;monk_ties_corr</title>\n<path fill=\"none\" stroke=\"black\" d=\"M563.04,-384.04C459.73,-376.28 293.25,-357.67 156,-313.91 150.85,-312.26 145.61,-310.29 140.44,-308.12\"/>\n<polygon fill=\"black\" stroke=\"black\" points=\"141.88,-304.93 131.32,-304.04 139.02,-311.32 141.88,-304.93\"/>\n</g>\n<!-- monk_ties_stds -->\n<g id=\"node19\" class=\"node\">\n<title>monk_ties_stds</title>\n<polygon fill=\"none\" stroke=\"black\" points=\"670.5,-302.93 545.5,-302.93 545.5,-249.93 670.5,-249.93 670.5,-302.93\"/>\n<text text-anchor=\"middle\" x=\"608\" y=\"-287.73\" font-family=\"Times,serif\" font-size=\"14.00\">monk_ties_stds</text>\n<text text-anchor=\"middle\" x=\"608\" y=\"-272.73\" font-family=\"Times,serif\" font-size=\"14.00\">~</text>\n<text text-anchor=\"middle\" x=\"608\" y=\"-257.73\" font-family=\"Times,serif\" font-size=\"14.00\">Deterministic</text>\n</g>\n<!-- monk_ties&#45;&gt;monk_ties_stds -->\n<g id=\"edge4\" class=\"edge\">\n<title>monk_ties&#45;&gt;monk_ties_stds</title>\n<path fill=\"none\" stroke=\"black\" d=\"M643.79,-353.04C637.79,-340.37 631.07,-326.16 625.08,-313.51\"/>\n<polygon fill=\"black\" stroke=\"black\" points=\"628.35,-312.23 620.91,-304.69 622.02,-315.23 628.35,-312.23\"/>\n</g>\n<!-- monk_ties_corr&#45;&gt;Monk like reciprocity -->\n<g id=\"edge9\" class=\"edge\">\n<title>monk_ties_corr&#45;&gt;Monk like reciprocity</title>\n<path fill=\"none\" stroke=\"black\" d=\"M84,-249.61C84,-235.77 84,-218.48 84,-203.26\"/>\n<polygon fill=\"black\" stroke=\"black\" points=\"87.5,-203.63 84,-193.63 80.5,-203.63 87.5,-203.63\"/>\n</g>\n</g>\n</svg>\n",
      "text/plain": [
       "<graphviz.graphs.Digraph at 0x7fa22c678650>"
      ]
     },
     "execution_count": 104,
     "metadata": {},
     "output_type": "execute_result"
    }
   ],
   "source": [
    "pm.model_to_graphviz(ex2_model)"
   ]
  },
  {
   "cell_type": "code",
   "execution_count": 105,
   "metadata": {},
   "outputs": [
    {
     "name": "stdout",
     "output_type": "stream",
     "text": [
      "Compiling...\n",
      "Compilation time =  0:00:04.659740\n",
      "Sampling...\n",
      "Sampling time =  0:00:09.417155\n",
      "Transforming variables...\n",
      "Transformation time =  0:00:03.373261\n"
     ]
    }
   ],
   "source": [
    "with ex2_model:\n",
    "    ex2_trace = sampling_jax.sample_blackjax_nuts()"
   ]
  },
  {
   "cell_type": "code",
   "execution_count": 107,
   "metadata": {},
   "outputs": [
    {
     "data": {
      "text/html": [
       "<div>\n",
       "<style scoped>\n",
       "    .dataframe tbody tr th:only-of-type {\n",
       "        vertical-align: middle;\n",
       "    }\n",
       "\n",
       "    .dataframe tbody tr th {\n",
       "        vertical-align: top;\n",
       "    }\n",
       "\n",
       "    .dataframe thead th {\n",
       "        text-align: right;\n",
       "    }\n",
       "</style>\n",
       "<table border=\"1\" class=\"dataframe\">\n",
       "  <thead>\n",
       "    <tr style=\"text-align: right;\">\n",
       "      <th></th>\n",
       "      <th>mean</th>\n",
       "      <th>sd</th>\n",
       "      <th>hdi_3%</th>\n",
       "      <th>hdi_97%</th>\n",
       "      <th>mcse_mean</th>\n",
       "      <th>mcse_sd</th>\n",
       "      <th>ess_bulk</th>\n",
       "      <th>ess_tail</th>\n",
       "      <th>r_hat</th>\n",
       "    </tr>\n",
       "  </thead>\n",
       "  <tbody>\n",
       "    <tr>\n",
       "      <th>α, general rate of liking</th>\n",
       "      <td>-3.199</td>\n",
       "      <td>0.307</td>\n",
       "      <td>-3.804</td>\n",
       "      <td>-2.683</td>\n",
       "      <td>0.012</td>\n",
       "      <td>0.009</td>\n",
       "      <td>811.0</td>\n",
       "      <td>719.0</td>\n",
       "      <td>1.00</td>\n",
       "    </tr>\n",
       "    <tr>\n",
       "      <th>Monk like reciprocity</th>\n",
       "      <td>0.453</td>\n",
       "      <td>0.105</td>\n",
       "      <td>0.250</td>\n",
       "      <td>0.638</td>\n",
       "      <td>0.004</td>\n",
       "      <td>0.003</td>\n",
       "      <td>826.0</td>\n",
       "      <td>1619.0</td>\n",
       "      <td>1.01</td>\n",
       "    </tr>\n",
       "    <tr>\n",
       "      <th>β, general rate of disliking</th>\n",
       "      <td>-4.051</td>\n",
       "      <td>0.503</td>\n",
       "      <td>-5.045</td>\n",
       "      <td>-3.131</td>\n",
       "      <td>0.018</td>\n",
       "      <td>0.013</td>\n",
       "      <td>749.0</td>\n",
       "      <td>713.0</td>\n",
       "      <td>1.00</td>\n",
       "    </tr>\n",
       "    <tr>\n",
       "      <th>γ, impact of social tie on disliking</th>\n",
       "      <td>-1.482</td>\n",
       "      <td>0.401</td>\n",
       "      <td>-2.270</td>\n",
       "      <td>-0.726</td>\n",
       "      <td>0.017</td>\n",
       "      <td>0.012</td>\n",
       "      <td>520.0</td>\n",
       "      <td>447.0</td>\n",
       "      <td>1.01</td>\n",
       "    </tr>\n",
       "  </tbody>\n",
       "</table>\n",
       "</div>"
      ],
      "text/plain": [
       "                                       mean     sd  hdi_3%  hdi_97%  \\\n",
       "α, general rate of liking            -3.199  0.307  -3.804   -2.683   \n",
       "Monk like reciprocity                 0.453  0.105   0.250    0.638   \n",
       "β, general rate of disliking         -4.051  0.503  -5.045   -3.131   \n",
       "γ, impact of social tie on disliking -1.482  0.401  -2.270   -0.726   \n",
       "\n",
       "                                      mcse_mean  mcse_sd  ess_bulk  ess_tail  \\\n",
       "α, general rate of liking                 0.012    0.009     811.0     719.0   \n",
       "Monk like reciprocity                     0.004    0.003     826.0    1619.0   \n",
       "β, general rate of disliking              0.018    0.013     749.0     713.0   \n",
       "γ, impact of social tie on disliking      0.017    0.012     520.0     447.0   \n",
       "\n",
       "                                      r_hat  \n",
       "α, general rate of liking              1.00  \n",
       "Monk like reciprocity                  1.01  \n",
       "β, general rate of disliking           1.00  \n",
       "γ, impact of social tie on disliking   1.01  "
      ]
     },
     "execution_count": 107,
     "metadata": {},
     "output_type": "execute_result"
    }
   ],
   "source": [
    "az.summary(\n",
    "    ex2_trace, \n",
    "    var_names=['α, general rate of liking', 'Monk like reciprocity', 'β, general rate of disliking', 'γ, impact of social tie on disliking'], \n",
    ")"
   ]
  },
  {
   "cell_type": "markdown",
   "metadata": {},
   "source": [
    "## Dislikes v2 - adding \"dislike ties\" instead"
   ]
  },
  {
   "cell_type": "code",
   "execution_count": 156,
   "metadata": {},
   "outputs": [],
   "source": [
    "def dislikes(data, RVs):\n",
    "    data['disliked_by_A'] = pm.MutableData(\"disliked_by_A\", monks['dislike_AB'], dims='dyads')\n",
    "    data['disliked_by_B'] = pm.MutableData(\"disliked_by_B\", monks['dislike_BA'], dims='dyads')\n",
    "\n",
    "    #parameters\n",
    "    RVs['β'] = pm.Normal('β, general rate of disliking', -2, 1) #the general possibility of disliking should be quite low\n",
    "    \n",
    "    #estimation of \"dislike\" ties\n",
    "    σ = pm.Exponential.dist(1.0)    \n",
    "    Z = pm.Normal('Z_dislike', mu=0, sigma=1, dims=[\"pair\", \"dyads\"])\n",
    "    chol, corr, stds = pm.LKJCholeskyCov('monk_dislike_ties', n=len(coords['pair']), eta=2, sd_dist=σ, compute_corr=True)\n",
    "    vals = pm.math.dot(chol, Z)\n",
    "    RVs['AB_dislike'] = pm.Deterministic(\"Dislike_AB, disliking from A to B\", vals[0, :], dims=\"dyads\")\n",
    "    RVs['BA_dislike'] = pm.Deterministic(\"Dislike_BA, disliking from B to A\", vals[1, :], dims=\"dyads\")\n",
    "    pm.Deterministic(\"Monk dislike reciprocity\", corr[1,0])\n",
    "    RVs['dislike_corr'] = corr[1,0]\n",
    "\n",
    "    pm.Deterministic(\"reciprocity contrast\", RVs['like_corr'] - RVs['dislike_corr'])\n",
    "\n",
    "def like_dislike_likelihood(data, RVs):\n",
    "\n",
    "    #two binomial models for liking (same as before)\n",
    "    #A -> B model\n",
    "    logit_p_AB = RVs['α'] + RVs['AB_like'] \n",
    "    pm.Binomial(\"likes AB\", n = data['attempts'], logit_p = logit_p_AB, dims='dyads', observed = data['liked_by_A'])\n",
    "\n",
    "    #B -> A model\n",
    "    logit_p_BA = RVs['α'] + RVs['BA_like'] \n",
    "    pm.Binomial(\"likes BA\", n = data['attempts'], logit_p = logit_p_BA, dims='dyads', observed = data['liked_by_B'])\n",
    "\n",
    "    #two more binomial models for disliking\n",
    "    #A -> B model\n",
    "    logit_dislike_AB = RVs['β'] + RVs['AB_dislike']\n",
    "    pm.Binomial(\"dislikes AB\", n = data['attempts'], logit_p = logit_dislike_AB, dims='dyads', observed = data['disliked_by_A'])\n",
    "\n",
    "    #B -> A model\n",
    "    logit_dislike_BA = RVs['β'] + RVs['BA_dislike'] \n",
    "    pm.Binomial(\"dislikes BA\", n = data['attempts'], logit_p = logit_dislike_BA, dims='dyads', observed = data['disliked_by_B'])\n",
    "    "
   ]
  },
  {
   "cell_type": "code",
   "execution_count": 157,
   "metadata": {},
   "outputs": [],
   "source": [
    "with pm.Model(coords=coords) as ex2_dislike_ties_model:\n",
    "    data = {}\n",
    "    RVs = {}\n",
    "    likes(data, RVs)\n",
    "    dislikes(data, RVs)\n",
    "    like_dislike_likelihood(data, RVs)"
   ]
  },
  {
   "cell_type": "code",
   "execution_count": 158,
   "metadata": {},
   "outputs": [
    {
     "name": "stdout",
     "output_type": "stream",
     "text": [
      "Compiling...\n",
      "Compilation time =  0:00:05.295476\n",
      "Sampling...\n",
      "Sampling time =  0:00:10.284506\n",
      "Transforming variables...\n",
      "Transformation time =  0:00:03.306012\n"
     ]
    }
   ],
   "source": [
    "with ex2_dislike_ties_model:\n",
    "    ex2_dislike_ties_trace = sampling_jax.sample_blackjax_nuts()"
   ]
  },
  {
   "cell_type": "code",
   "execution_count": 159,
   "metadata": {},
   "outputs": [
    {
     "data": {
      "text/html": [
       "<div>\n",
       "<style scoped>\n",
       "    .dataframe tbody tr th:only-of-type {\n",
       "        vertical-align: middle;\n",
       "    }\n",
       "\n",
       "    .dataframe tbody tr th {\n",
       "        vertical-align: top;\n",
       "    }\n",
       "\n",
       "    .dataframe thead th {\n",
       "        text-align: right;\n",
       "    }\n",
       "</style>\n",
       "<table border=\"1\" class=\"dataframe\">\n",
       "  <thead>\n",
       "    <tr style=\"text-align: right;\">\n",
       "      <th></th>\n",
       "      <th>mean</th>\n",
       "      <th>sd</th>\n",
       "      <th>hdi_3%</th>\n",
       "      <th>hdi_97%</th>\n",
       "      <th>mcse_mean</th>\n",
       "      <th>mcse_sd</th>\n",
       "      <th>ess_bulk</th>\n",
       "      <th>ess_tail</th>\n",
       "      <th>r_hat</th>\n",
       "    </tr>\n",
       "  </thead>\n",
       "  <tbody>\n",
       "    <tr>\n",
       "      <th>α, general rate of liking</th>\n",
       "      <td>-4.405</td>\n",
       "      <td>0.459</td>\n",
       "      <td>-5.259</td>\n",
       "      <td>-3.549</td>\n",
       "      <td>0.009</td>\n",
       "      <td>0.006</td>\n",
       "      <td>2546.0</td>\n",
       "      <td>2543.0</td>\n",
       "      <td>1.0</td>\n",
       "    </tr>\n",
       "    <tr>\n",
       "      <th>Monk like reciprocity</th>\n",
       "      <td>0.659</td>\n",
       "      <td>0.108</td>\n",
       "      <td>0.460</td>\n",
       "      <td>0.854</td>\n",
       "      <td>0.003</td>\n",
       "      <td>0.002</td>\n",
       "      <td>1151.0</td>\n",
       "      <td>2092.0</td>\n",
       "      <td>1.0</td>\n",
       "    </tr>\n",
       "    <tr>\n",
       "      <th>β, general rate of disliking</th>\n",
       "      <td>-4.775</td>\n",
       "      <td>0.470</td>\n",
       "      <td>-5.646</td>\n",
       "      <td>-3.921</td>\n",
       "      <td>0.009</td>\n",
       "      <td>0.006</td>\n",
       "      <td>2984.0</td>\n",
       "      <td>3052.0</td>\n",
       "      <td>1.0</td>\n",
       "    </tr>\n",
       "    <tr>\n",
       "      <th>Monk dislike reciprocity</th>\n",
       "      <td>0.440</td>\n",
       "      <td>0.135</td>\n",
       "      <td>0.192</td>\n",
       "      <td>0.695</td>\n",
       "      <td>0.004</td>\n",
       "      <td>0.003</td>\n",
       "      <td>1315.0</td>\n",
       "      <td>2457.0</td>\n",
       "      <td>1.0</td>\n",
       "    </tr>\n",
       "    <tr>\n",
       "      <th>reciprocity contrast</th>\n",
       "      <td>0.219</td>\n",
       "      <td>0.172</td>\n",
       "      <td>-0.096</td>\n",
       "      <td>0.548</td>\n",
       "      <td>0.005</td>\n",
       "      <td>0.003</td>\n",
       "      <td>1265.0</td>\n",
       "      <td>2193.0</td>\n",
       "      <td>1.0</td>\n",
       "    </tr>\n",
       "  </tbody>\n",
       "</table>\n",
       "</div>"
      ],
      "text/plain": [
       "                               mean     sd  hdi_3%  hdi_97%  mcse_mean  \\\n",
       "α, general rate of liking    -4.405  0.459  -5.259   -3.549      0.009   \n",
       "Monk like reciprocity         0.659  0.108   0.460    0.854      0.003   \n",
       "β, general rate of disliking -4.775  0.470  -5.646   -3.921      0.009   \n",
       "Monk dislike reciprocity      0.440  0.135   0.192    0.695      0.004   \n",
       "reciprocity contrast          0.219  0.172  -0.096    0.548      0.005   \n",
       "\n",
       "                              mcse_sd  ess_bulk  ess_tail  r_hat  \n",
       "α, general rate of liking       0.006    2546.0    2543.0    1.0  \n",
       "Monk like reciprocity           0.002    1151.0    2092.0    1.0  \n",
       "β, general rate of disliking    0.006    2984.0    3052.0    1.0  \n",
       "Monk dislike reciprocity        0.003    1315.0    2457.0    1.0  \n",
       "reciprocity contrast            0.003    1265.0    2193.0    1.0  "
      ]
     },
     "execution_count": 159,
     "metadata": {},
     "output_type": "execute_result"
    }
   ],
   "source": [
    "az.summary(\n",
    "    ex2_dislike_ties_trace, \n",
    "    var_names=['α, general rate of liking', 'Monk like reciprocity', 'β, general rate of disliking', 'Monk dislike reciprocity', 'reciprocity contrast'], \n",
    ")"
   ]
  },
  {
   "cell_type": "markdown",
   "metadata": {},
   "source": [
    "## One more approach: like & dislike ties should be correlated, too!"
   ]
  },
  {
   "cell_type": "code",
   "execution_count": 160,
   "metadata": {},
   "outputs": [],
   "source": [
    "coords['double-pair'] = ['AB_like', 'BA_like', 'AB_dislike', 'BA_dislike']\n",
    "\n",
    "def joint_likes_dislikes(data, RVs):\n",
    "    data['liked_by_A'] = pm.MutableData(\"liked_by_A\", monks['like_AB'], dims='dyads')\n",
    "    data['liked_by_B'] = pm.MutableData(\"liked_by_B\", monks['like_BA'], dims='dyads')\n",
    "    data['attempts'] = pm.MutableData(\"attempts\", [3] * len(monks), dims='dyads')\n",
    "    data['disliked_by_A'] = pm.MutableData(\"disliked_by_A\", monks['dislike_AB'], dims='dyads')\n",
    "    data['disliked_by_B'] = pm.MutableData(\"disliked_by_B\", monks['dislike_BA'], dims='dyads')\n",
    "\n",
    "    #parameters\n",
    "    RVs['α'] = pm.Normal('α, general rate of liking', -2, 1) #the general possibility of liking should be quite low\n",
    "    RVs['β'] = pm.Normal('β, general rate of disliking', -2, 1) #the general possibility of disliking should be quite low\n",
    "\n",
    "    #estimation of social ties (4-x)\n",
    "    σ = pm.Exponential.dist(1.0)    \n",
    "    Z = pm.Normal('Z', mu=0, sigma=1, dims=[\"double-pair\", \"dyads\"])\n",
    "    chol, corr, stds = pm.LKJCholeskyCov('monk_ties', n=len(coords['double-pair']), eta=2, sd_dist=σ, compute_corr=True)\n",
    "    vals = pm.math.dot(chol, Z)\n",
    "\n",
    "    RVs['AB_like'] = pm.Deterministic(\"AB_like\", vals[0, :], dims=\"dyads\")\n",
    "    RVs['BA_like'] = pm.Deterministic(\"BA_like\", vals[1, :], dims=\"dyads\")\n",
    "    RVs['AB_dislike'] = pm.Deterministic(\"AB_dislike\", vals[2, :], dims=\"dyads\")\n",
    "    RVs['BA_dislike'] = pm.Deterministic(\"BA_dislike\", vals[3, :], dims=\"dyads\")\n",
    "\n",
    "    #difference in strength of ties\n",
    "    pm.Deterministic(\"Monk like reciprocity\", corr[0,1])\n",
    "    pm.Deterministic(\"Monk dislike reciprocity\", corr[2,3])\n",
    "    pm.Deterministic(\"reciprocity contrast\", corr[0,1] - corr[2,3])\n",
    "\n",
    "\n",
    "with pm.Model(coords=coords) as ex2_joint_ties_model:\n",
    "    data = {}\n",
    "    RVs = {}\n",
    "    joint_likes_dislikes(data, RVs)\n",
    "    like_dislike_likelihood(data, RVs)\n"
   ]
  },
  {
   "cell_type": "code",
   "execution_count": 161,
   "metadata": {},
   "outputs": [
    {
     "name": "stdout",
     "output_type": "stream",
     "text": [
      "Compiling...\n",
      "Compilation time =  0:00:04.329701\n",
      "Sampling...\n",
      "Sampling time =  0:00:07.678745\n",
      "Transforming variables...\n",
      "Transformation time =  0:00:03.947685\n"
     ]
    }
   ],
   "source": [
    "with ex2_joint_ties_model:\n",
    "    ex2_joint_ties_trace = sampling_jax.sample_blackjax_nuts()"
   ]
  },
  {
   "cell_type": "code",
   "execution_count": 163,
   "metadata": {},
   "outputs": [
    {
     "data": {
      "text/html": [
       "<div>\n",
       "<style scoped>\n",
       "    .dataframe tbody tr th:only-of-type {\n",
       "        vertical-align: middle;\n",
       "    }\n",
       "\n",
       "    .dataframe tbody tr th {\n",
       "        vertical-align: top;\n",
       "    }\n",
       "\n",
       "    .dataframe thead th {\n",
       "        text-align: right;\n",
       "    }\n",
       "</style>\n",
       "<table border=\"1\" class=\"dataframe\">\n",
       "  <thead>\n",
       "    <tr style=\"text-align: right;\">\n",
       "      <th></th>\n",
       "      <th>mean</th>\n",
       "      <th>sd</th>\n",
       "      <th>hdi_3%</th>\n",
       "      <th>hdi_97%</th>\n",
       "      <th>mcse_mean</th>\n",
       "      <th>mcse_sd</th>\n",
       "      <th>ess_bulk</th>\n",
       "      <th>ess_tail</th>\n",
       "      <th>r_hat</th>\n",
       "    </tr>\n",
       "  </thead>\n",
       "  <tbody>\n",
       "    <tr>\n",
       "      <th>α, general rate of liking</th>\n",
       "      <td>-4.434</td>\n",
       "      <td>0.464</td>\n",
       "      <td>-5.288</td>\n",
       "      <td>-3.571</td>\n",
       "      <td>0.009</td>\n",
       "      <td>0.006</td>\n",
       "      <td>2760.0</td>\n",
       "      <td>2879.0</td>\n",
       "      <td>1.0</td>\n",
       "    </tr>\n",
       "    <tr>\n",
       "      <th>Monk like reciprocity</th>\n",
       "      <td>0.641</td>\n",
       "      <td>0.106</td>\n",
       "      <td>0.442</td>\n",
       "      <td>0.831</td>\n",
       "      <td>0.003</td>\n",
       "      <td>0.002</td>\n",
       "      <td>1696.0</td>\n",
       "      <td>2532.0</td>\n",
       "      <td>1.0</td>\n",
       "    </tr>\n",
       "    <tr>\n",
       "      <th>β, general rate of disliking</th>\n",
       "      <td>-4.792</td>\n",
       "      <td>0.481</td>\n",
       "      <td>-5.723</td>\n",
       "      <td>-3.949</td>\n",
       "      <td>0.008</td>\n",
       "      <td>0.006</td>\n",
       "      <td>3598.0</td>\n",
       "      <td>2881.0</td>\n",
       "      <td>1.0</td>\n",
       "    </tr>\n",
       "    <tr>\n",
       "      <th>Monk dislike reciprocity</th>\n",
       "      <td>0.423</td>\n",
       "      <td>0.133</td>\n",
       "      <td>0.186</td>\n",
       "      <td>0.671</td>\n",
       "      <td>0.003</td>\n",
       "      <td>0.002</td>\n",
       "      <td>2052.0</td>\n",
       "      <td>2819.0</td>\n",
       "      <td>1.0</td>\n",
       "    </tr>\n",
       "    <tr>\n",
       "      <th>reciprocity contrast</th>\n",
       "      <td>0.218</td>\n",
       "      <td>0.170</td>\n",
       "      <td>-0.117</td>\n",
       "      <td>0.527</td>\n",
       "      <td>0.004</td>\n",
       "      <td>0.003</td>\n",
       "      <td>1856.0</td>\n",
       "      <td>2791.0</td>\n",
       "      <td>1.0</td>\n",
       "    </tr>\n",
       "  </tbody>\n",
       "</table>\n",
       "</div>"
      ],
      "text/plain": [
       "                               mean     sd  hdi_3%  hdi_97%  mcse_mean  \\\n",
       "α, general rate of liking    -4.434  0.464  -5.288   -3.571      0.009   \n",
       "Monk like reciprocity         0.641  0.106   0.442    0.831      0.003   \n",
       "β, general rate of disliking -4.792  0.481  -5.723   -3.949      0.008   \n",
       "Monk dislike reciprocity      0.423  0.133   0.186    0.671      0.003   \n",
       "reciprocity contrast          0.218  0.170  -0.117    0.527      0.004   \n",
       "\n",
       "                              mcse_sd  ess_bulk  ess_tail  r_hat  \n",
       "α, general rate of liking       0.006    2760.0    2879.0    1.0  \n",
       "Monk like reciprocity           0.002    1696.0    2532.0    1.0  \n",
       "β, general rate of disliking    0.006    3598.0    2881.0    1.0  \n",
       "Monk dislike reciprocity        0.002    2052.0    2819.0    1.0  \n",
       "reciprocity contrast            0.003    1856.0    2791.0    1.0  "
      ]
     },
     "execution_count": 163,
     "metadata": {},
     "output_type": "execute_result"
    }
   ],
   "source": [
    "az.summary(\n",
    "    ex2_joint_ties_trace, \n",
    "    var_names=['α, general rate of liking', 'Monk like reciprocity', 'β, general rate of disliking', 'Monk dislike reciprocity', 'reciprocity contrast'], \n",
    ")"
   ]
  },
  {
   "cell_type": "code",
   "execution_count": 164,
   "metadata": {},
   "outputs": [
    {
     "data": {
      "image/png": "[encoded data removed]",
      "text/plain": [
       "<Figure size 500x300 with 1 Axes>"
      ]
     },
     "metadata": {},
     "output_type": "display_data"
    }
   ],
   "source": [
    "az.plot_forest(\n",
    "    [ex2_joint_ties_trace,ex2_dislike_ties_trace], \n",
    "    var_names=['reciprocity contrast'], \n",
    "    combined=True,\n",
    "    kind='ridgeplot',    \n",
    "    ridgeplot_alpha=0.5,\n",
    "    ridgeplot_truncate=False,\n",
    "    ridgeplot_overlap=3,\n",
    "    model_names=['Joint like-dislike ties', 'Separate like-dislike ties'],\n",
    "    figsize=(5,3)\n",
    ")\n",
    "plt.show()"
   ]
  },
  {
   "cell_type": "markdown",
   "metadata": {},
   "source": [
    "## Generalized liking/disliking"
   ]
  },
  {
   "cell_type": "code",
   "execution_count": 222,
   "metadata": {},
   "outputs": [],
   "source": [
    "coords['monk_features'] = ['likeliness', 'dislikeness']\n",
    "\n",
    "\n",
    "def generalized_liking(data, RVs):\n",
    "    #add monk indicators\n",
    "    data['monk_A'] = pm.MutableData('monk_A', monks['A'] - 1, coords='monks', dims='dyads')\n",
    "    data['monk_B'] = pm.MutableData('monk_B', monks['B'] - 1, coords='monks', dims='dyads')\n",
    "\n",
    "    #estimation of general likeliness / dislikeness of each monk \n",
    "    Z_monk = pm.Normal('Z_monk', mu=0, sigma=1, dims=[\"monk_features\", \"monks\"])\n",
    "    chol_monk, corr_monk, stds_monk = pm.LKJCholeskyCov(\n",
    "        'monk_attributes', \n",
    "        n=len(coords['monk_features']), \n",
    "        eta=2, \n",
    "        sd_dist=pm.Exponential.dist(1.0), \n",
    "        compute_corr=True\n",
    "    )\n",
    "    vals_monk = pm.math.dot(chol_monk, Z_monk)\n",
    "    RVs['Likeness'] = pm.Deterministic(\"Likeness\", vals_monk[0, :], dims=\"monks\")\n",
    "    RVs['Dislikeness'] = pm.Deterministic(\"Dislikeness\", vals_monk[1, :], dims=\"monks\")\n",
    "    pm.Deterministic(\"Monk like-dislike correlation\", corr_monk[1,0])\n",
    "\n",
    "def likelihood_generalized(data, RVs):\n",
    "    #two binomial models for liking (same as before)\n",
    "    #A -> B model\n",
    "    logit_p_AB = RVs['α'] + RVs['AB_like'] + RVs['Likeness'][data['monk_B']]\n",
    "    pm.Binomial(\"likes AB\", n = data['attempts'], logit_p = logit_p_AB, dims='dyads', observed = data['liked_by_A'])\n",
    "\n",
    "    #B -> A model\n",
    "    logit_p_BA = RVs['α'] + RVs['BA_like'] + RVs['Likeness'][data['monk_A']]\n",
    "    pm.Binomial(\"likes BA\", n = data['attempts'], logit_p = logit_p_BA, dims='dyads', observed = data['liked_by_B'])\n",
    "\n",
    "    #two more binomial models for disliking\n",
    "    #A -> B model\n",
    "    logit_dislike_AB = RVs['β'] + RVs['AB_dislike'] + RVs['Dislikeness'][data['monk_B']]\n",
    "    pm.Binomial(\"dislikes AB\", n = data['attempts'], logit_p = logit_dislike_AB, dims='dyads', observed = data['disliked_by_A'])\n",
    "\n",
    "    #B -> A model\n",
    "    logit_dislike_BA = RVs['β'] + RVs['BA_dislike'] + RVs['Dislikeness'][data['monk_A']]\n",
    "    pm.Binomial(\"dislikes BA\", n = data['attempts'], logit_p = logit_dislike_BA, dims='dyads', observed = data['disliked_by_B'])"
   ]
  },
  {
   "cell_type": "code",
   "execution_count": 176,
   "metadata": {},
   "outputs": [],
   "source": [
    "with pm.Model(coords=coords) as ex3_generalized_model:\n",
    "    \n",
    "    data = {}\n",
    "    RVs = {}\n",
    "    likes(data, RVs)\n",
    "    dislikes(data, RVs)\n",
    "    generalized_liking(data, RVs)\n",
    "    likelihood_generalized(data, RVs)"
   ]
  },
  {
   "cell_type": "code",
   "execution_count": 177,
   "metadata": {},
   "outputs": [
    {
     "name": "stdout",
     "output_type": "stream",
     "text": [
      "Compiling...\n",
      "Compilation time =  0:00:06.609547\n",
      "Sampling...\n",
      "Sampling time =  0:00:13.515338\n",
      "Transforming variables...\n",
      "Transformation time =  0:00:21.018012\n"
     ]
    }
   ],
   "source": [
    "with ex3_generalized_model:\n",
    "    ex3_generalized_trace = sampling_jax.sample_blackjax_nuts()"
   ]
  },
  {
   "cell_type": "code",
   "execution_count": 178,
   "metadata": {},
   "outputs": [
    {
     "data": {
      "text/html": [
       "<div>\n",
       "<style scoped>\n",
       "    .dataframe tbody tr th:only-of-type {\n",
       "        vertical-align: middle;\n",
       "    }\n",
       "\n",
       "    .dataframe tbody tr th {\n",
       "        vertical-align: top;\n",
       "    }\n",
       "\n",
       "    .dataframe thead th {\n",
       "        text-align: right;\n",
       "    }\n",
       "</style>\n",
       "<table border=\"1\" class=\"dataframe\">\n",
       "  <thead>\n",
       "    <tr style=\"text-align: right;\">\n",
       "      <th></th>\n",
       "      <th>mean</th>\n",
       "      <th>sd</th>\n",
       "      <th>hdi_3%</th>\n",
       "      <th>hdi_97%</th>\n",
       "      <th>mcse_mean</th>\n",
       "      <th>mcse_sd</th>\n",
       "      <th>ess_bulk</th>\n",
       "      <th>ess_tail</th>\n",
       "      <th>r_hat</th>\n",
       "    </tr>\n",
       "  </thead>\n",
       "  <tbody>\n",
       "    <tr>\n",
       "      <th>α, general rate of liking</th>\n",
       "      <td>-4.424</td>\n",
       "      <td>0.458</td>\n",
       "      <td>-5.292</td>\n",
       "      <td>-3.587</td>\n",
       "      <td>0.010</td>\n",
       "      <td>0.007</td>\n",
       "      <td>1972.0</td>\n",
       "      <td>2581.0</td>\n",
       "      <td>1.00</td>\n",
       "    </tr>\n",
       "    <tr>\n",
       "      <th>Monk like reciprocity</th>\n",
       "      <td>0.663</td>\n",
       "      <td>0.107</td>\n",
       "      <td>0.461</td>\n",
       "      <td>0.848</td>\n",
       "      <td>0.004</td>\n",
       "      <td>0.003</td>\n",
       "      <td>892.0</td>\n",
       "      <td>1413.0</td>\n",
       "      <td>1.00</td>\n",
       "    </tr>\n",
       "    <tr>\n",
       "      <th>β, general rate of disliking</th>\n",
       "      <td>-4.381</td>\n",
       "      <td>0.599</td>\n",
       "      <td>-5.558</td>\n",
       "      <td>-3.287</td>\n",
       "      <td>0.014</td>\n",
       "      <td>0.010</td>\n",
       "      <td>1767.0</td>\n",
       "      <td>2220.0</td>\n",
       "      <td>1.00</td>\n",
       "    </tr>\n",
       "    <tr>\n",
       "      <th>Monk dislike reciprocity</th>\n",
       "      <td>0.532</td>\n",
       "      <td>0.157</td>\n",
       "      <td>0.234</td>\n",
       "      <td>0.805</td>\n",
       "      <td>0.005</td>\n",
       "      <td>0.004</td>\n",
       "      <td>866.0</td>\n",
       "      <td>1659.0</td>\n",
       "      <td>1.01</td>\n",
       "    </tr>\n",
       "    <tr>\n",
       "      <th>reciprocity contrast</th>\n",
       "      <td>0.131</td>\n",
       "      <td>0.194</td>\n",
       "      <td>-0.222</td>\n",
       "      <td>0.501</td>\n",
       "      <td>0.007</td>\n",
       "      <td>0.005</td>\n",
       "      <td>811.0</td>\n",
       "      <td>1544.0</td>\n",
       "      <td>1.01</td>\n",
       "    </tr>\n",
       "  </tbody>\n",
       "</table>\n",
       "</div>"
      ],
      "text/plain": [
       "                               mean     sd  hdi_3%  hdi_97%  mcse_mean  \\\n",
       "α, general rate of liking    -4.424  0.458  -5.292   -3.587      0.010   \n",
       "Monk like reciprocity         0.663  0.107   0.461    0.848      0.004   \n",
       "β, general rate of disliking -4.381  0.599  -5.558   -3.287      0.014   \n",
       "Monk dislike reciprocity      0.532  0.157   0.234    0.805      0.005   \n",
       "reciprocity contrast          0.131  0.194  -0.222    0.501      0.007   \n",
       "\n",
       "                              mcse_sd  ess_bulk  ess_tail  r_hat  \n",
       "α, general rate of liking       0.007    1972.0    2581.0   1.00  \n",
       "Monk like reciprocity           0.003     892.0    1413.0   1.00  \n",
       "β, general rate of disliking    0.010    1767.0    2220.0   1.00  \n",
       "Monk dislike reciprocity        0.004     866.0    1659.0   1.01  \n",
       "reciprocity contrast            0.005     811.0    1544.0   1.01  "
      ]
     },
     "execution_count": 178,
     "metadata": {},
     "output_type": "execute_result"
    }
   ],
   "source": [
    "az.summary(\n",
    "    ex3_generalized_trace, \n",
    "    var_names=['α, general rate of liking', 'Monk like reciprocity', 'β, general rate of disliking', 'Monk dislike reciprocity', 'reciprocity contrast'], \n",
    ")"
   ]
  },
  {
   "cell_type": "markdown",
   "metadata": {},
   "source": [
    "## Generalized effects with joint dislike-like modelling"
   ]
  },
  {
   "cell_type": "code",
   "execution_count": 223,
   "metadata": {},
   "outputs": [],
   "source": [
    "with pm.Model(coords=coords) as ex3_generalized_model_joint:\n",
    "    data = {}\n",
    "    RVs = {}\n",
    "    joint_likes_dislikes(data, RVs)\n",
    "    generalized_liking(data, RVs)\n",
    "    likelihood_generalized(data, RVs)\n"
   ]
  },
  {
   "cell_type": "code",
   "execution_count": 224,
   "metadata": {},
   "outputs": [
    {
     "name": "stdout",
     "output_type": "stream",
     "text": [
      "Compiling...\n",
      "Compilation time =  0:00:05.933041\n",
      "Sampling...\n",
      "Sampling time =  0:00:12.372282\n",
      "Transforming variables...\n",
      "Transformation time =  0:00:04.804412\n"
     ]
    }
   ],
   "source": [
    "with ex3_generalized_model_joint:\n",
    "    ex3_generalized_trace_joint = sampling_jax.sample_blackjax_nuts()"
   ]
  },
  {
   "cell_type": "code",
   "execution_count": 225,
   "metadata": {},
   "outputs": [
    {
     "data": {
      "text/html": [
       "<div>\n",
       "<style scoped>\n",
       "    .dataframe tbody tr th:only-of-type {\n",
       "        vertical-align: middle;\n",
       "    }\n",
       "\n",
       "    .dataframe tbody tr th {\n",
       "        vertical-align: top;\n",
       "    }\n",
       "\n",
       "    .dataframe thead th {\n",
       "        text-align: right;\n",
       "    }\n",
       "</style>\n",
       "<table border=\"1\" class=\"dataframe\">\n",
       "  <thead>\n",
       "    <tr style=\"text-align: right;\">\n",
       "      <th></th>\n",
       "      <th>mean</th>\n",
       "      <th>sd</th>\n",
       "      <th>hdi_3%</th>\n",
       "      <th>hdi_97%</th>\n",
       "      <th>mcse_mean</th>\n",
       "      <th>mcse_sd</th>\n",
       "      <th>ess_bulk</th>\n",
       "      <th>ess_tail</th>\n",
       "      <th>r_hat</th>\n",
       "    </tr>\n",
       "  </thead>\n",
       "  <tbody>\n",
       "    <tr>\n",
       "      <th>α, general rate of liking</th>\n",
       "      <td>-4.406</td>\n",
       "      <td>0.471</td>\n",
       "      <td>-5.302</td>\n",
       "      <td>-3.552</td>\n",
       "      <td>0.012</td>\n",
       "      <td>0.008</td>\n",
       "      <td>1557.0</td>\n",
       "      <td>2004.0</td>\n",
       "      <td>1.00</td>\n",
       "    </tr>\n",
       "    <tr>\n",
       "      <th>Monk like reciprocity</th>\n",
       "      <td>0.644</td>\n",
       "      <td>0.107</td>\n",
       "      <td>0.438</td>\n",
       "      <td>0.826</td>\n",
       "      <td>0.004</td>\n",
       "      <td>0.003</td>\n",
       "      <td>709.0</td>\n",
       "      <td>1455.0</td>\n",
       "      <td>1.01</td>\n",
       "    </tr>\n",
       "    <tr>\n",
       "      <th>β, general rate of disliking</th>\n",
       "      <td>-4.392</td>\n",
       "      <td>0.604</td>\n",
       "      <td>-5.607</td>\n",
       "      <td>-3.316</td>\n",
       "      <td>0.015</td>\n",
       "      <td>0.011</td>\n",
       "      <td>1661.0</td>\n",
       "      <td>2340.0</td>\n",
       "      <td>1.00</td>\n",
       "    </tr>\n",
       "    <tr>\n",
       "      <th>Monk dislike reciprocity</th>\n",
       "      <td>0.490</td>\n",
       "      <td>0.153</td>\n",
       "      <td>0.181</td>\n",
       "      <td>0.755</td>\n",
       "      <td>0.004</td>\n",
       "      <td>0.003</td>\n",
       "      <td>1410.0</td>\n",
       "      <td>2378.0</td>\n",
       "      <td>1.00</td>\n",
       "    </tr>\n",
       "    <tr>\n",
       "      <th>reciprocity contrast</th>\n",
       "      <td>0.154</td>\n",
       "      <td>0.189</td>\n",
       "      <td>-0.200</td>\n",
       "      <td>0.506</td>\n",
       "      <td>0.006</td>\n",
       "      <td>0.004</td>\n",
       "      <td>1057.0</td>\n",
       "      <td>1454.0</td>\n",
       "      <td>1.00</td>\n",
       "    </tr>\n",
       "    <tr>\n",
       "      <th>Monk like-dislike correlation</th>\n",
       "      <td>-0.087</td>\n",
       "      <td>0.413</td>\n",
       "      <td>-0.825</td>\n",
       "      <td>0.648</td>\n",
       "      <td>0.024</td>\n",
       "      <td>0.017</td>\n",
       "      <td>311.0</td>\n",
       "      <td>665.0</td>\n",
       "      <td>1.01</td>\n",
       "    </tr>\n",
       "  </tbody>\n",
       "</table>\n",
       "</div>"
      ],
      "text/plain": [
       "                                mean     sd  hdi_3%  hdi_97%  mcse_mean  \\\n",
       "α, general rate of liking     -4.406  0.471  -5.302   -3.552      0.012   \n",
       "Monk like reciprocity          0.644  0.107   0.438    0.826      0.004   \n",
       "β, general rate of disliking  -4.392  0.604  -5.607   -3.316      0.015   \n",
       "Monk dislike reciprocity       0.490  0.153   0.181    0.755      0.004   \n",
       "reciprocity contrast           0.154  0.189  -0.200    0.506      0.006   \n",
       "Monk like-dislike correlation -0.087  0.413  -0.825    0.648      0.024   \n",
       "\n",
       "                               mcse_sd  ess_bulk  ess_tail  r_hat  \n",
       "α, general rate of liking        0.008    1557.0    2004.0   1.00  \n",
       "Monk like reciprocity            0.003     709.0    1455.0   1.01  \n",
       "β, general rate of disliking     0.011    1661.0    2340.0   1.00  \n",
       "Monk dislike reciprocity         0.003    1410.0    2378.0   1.00  \n",
       "reciprocity contrast             0.004    1057.0    1454.0   1.00  \n",
       "Monk like-dislike correlation    0.017     311.0     665.0   1.01  "
      ]
     },
     "execution_count": 225,
     "metadata": {},
     "output_type": "execute_result"
    }
   ],
   "source": [
    "az.summary(\n",
    "    ex3_generalized_trace_joint, \n",
    "    var_names=['α, general rate of liking', 'Monk like reciprocity', 'β, general rate of disliking', 'Monk dislike reciprocity', 'reciprocity contrast', 'Monk like-dislike correlation'], \n",
    ")"
   ]
  },
  {
   "cell_type": "code",
   "execution_count": 226,
   "metadata": {},
   "outputs": [
    {
     "data": {
      "image/png": "[encoded data removed]",
      "text/plain": [
       "<Figure size 600x580 with 1 Axes>"
      ]
     },
     "metadata": {},
     "output_type": "display_data"
    }
   ],
   "source": [
    "ax = az.plot_forest(ex3_generalized_trace_joint, var_names=['Likeness'], combined=True)\n",
    "ax[0].set_title(\"Likeness\")\n",
    "plt.show()"
   ]
  },
  {
   "cell_type": "code",
   "execution_count": 227,
   "metadata": {},
   "outputs": [
    {
     "data": {
      "image/png": "[encoded data removed]",
      "text/plain": [
       "<Figure size 600x580 with 1 Axes>"
      ]
     },
     "metadata": {},
     "output_type": "display_data"
    }
   ],
   "source": [
    "ax = az.plot_forest(ex3_generalized_trace_joint, var_names=['Dislikeness'], combined=True)\n",
    "ax[0].set_title(\"Dislikeness\")\n",
    "plt.show()"
   ]
  },
  {
   "cell_type": "code",
   "execution_count": 228,
   "metadata": {},
   "outputs": [],
   "source": [
    "mean_likeness = pd.DataFrame(ex3_generalized_trace_joint['posterior']['Likeness'].mean(dim=['chain', 'draw']).to_pandas()).rename({0: \"Likeness\"}, axis=1)\n",
    "mean_dislikeness = pd.DataFrame(ex3_generalized_trace_joint['posterior']['Dislikeness'].mean(dim=['chain', 'draw']).to_pandas()).rename({0: \"Dislikeness\"}, axis=1)\n",
    "monk_features = mean_likeness.join(mean_dislikeness).reset_index()"
   ]
  },
  {
   "cell_type": "code",
   "execution_count": 229,
   "metadata": {},
   "outputs": [
    {
     "data": {
      "text/plain": [
       "array([[ 1.        , -0.38911088],\n",
       "       [-0.38911088,  1.        ]])"
      ]
     },
     "execution_count": 229,
     "metadata": {},
     "output_type": "execute_result"
    }
   ],
   "source": [
    "np.corrcoef(monk_features['Dislikeness'], monk_features['Likeness'])"
   ]
  },
  {
   "cell_type": "code",
   "execution_count": 230,
   "metadata": {},
   "outputs": [
    {
     "data": {
      "application/vnd.vegalite.v4+json": {
       "$schema": "https://vega.github.io/schema/vega-lite/v4.17.0.json",
       "config": {
        "view": {
         "continuousHeight": 300,
         "continuousWidth": 400
        }
       },
       "data": {
        "name": "data-ba38df0f57ca75fceb6add0a547bc84e"
       },
       "datasets": {
        "data-ba38df0f57ca75fceb6add0a547bc84e": [
         {
          "Dislikeness": -0.3468757635107762,
          "Likeness": 0.11601618258422819,
          "monks": "LOUIS"
         },
         {
          "Dislikeness": -2.5419683661114387,
          "Likeness": 0.24818485893955114,
          "monks": "MARK"
         },
         {
          "Dislikeness": -2.8474018945836774,
          "Likeness": -0.025981794566411708,
          "monks": "VICTOR"
         },
         {
          "Dislikeness": 0.7343208378317985,
          "Likeness": 0.09696545879134229,
          "monks": "GREG"
         },
         {
          "Dislikeness": 2.793459613306714,
          "Likeness": 0.10935377310546242,
          "monks": "BONI"
         },
         {
          "Dislikeness": -2.8476982540187286,
          "Likeness": -0.16431327141422564,
          "monks": "SIMP"
         },
         {
          "Dislikeness": 1.2237357318012136,
          "Likeness": -0.03807440218740647,
          "monks": "ROMUL"
         },
         {
          "Dislikeness": -1.3635500147744681,
          "Likeness": -0.0844570565699332,
          "monks": "ELIAS"
         },
         {
          "Dislikeness": -1.0128146053435894,
          "Likeness": -0.03405599116381518,
          "monks": "BERTH"
         },
         {
          "Dislikeness": 2.274213007328009,
          "Likeness": -0.42420059907349694,
          "monks": "HUGH"
         },
         {
          "Dislikeness": -1.6472675674765391,
          "Likeness": -0.03319776308984295,
          "monks": "AMAND"
         },
         {
          "Dislikeness": -3.102108275807814,
          "Likeness": 0.22983575524459351,
          "monks": "AMBROSE"
         },
         {
          "Dislikeness": -0.6189011505892418,
          "Likeness": -0.03345720054485773,
          "monks": "JOHN"
         },
         {
          "Dislikeness": -1.7643351834432062,
          "Likeness": -0.11262919262440126,
          "monks": "ALBERT"
         },
         {
          "Dislikeness": -0.9244679807946605,
          "Likeness": -0.11684549996323472,
          "monks": "WINF"
         },
         {
          "Dislikeness": 1.3388280755660928,
          "Likeness": -0.247828502743381,
          "monks": "BASIL"
         },
         {
          "Dislikeness": 0.33744560807825796,
          "Likeness": -0.16468039296913653,
          "monks": "BONAVEN"
         },
         {
          "Dislikeness": -2.2143051436444763,
          "Likeness": 0.1460259523792103,
          "monks": "PETER"
         }
        ]
       },
       "layer": [
        {
         "encoding": {
          "color": {
           "field": "monks",
           "type": "nominal"
          },
          "tooltip": [
           {
            "field": "Likeness",
            "type": "quantitative"
           },
           {
            "field": "Dislikeness",
            "type": "quantitative"
           },
           {
            "field": "monks",
            "type": "nominal"
           }
          ],
          "x": {
           "field": "Likeness",
           "type": "quantitative"
          },
          "y": {
           "field": "Dislikeness",
           "type": "quantitative"
          }
         },
         "mark": "point"
        },
        {
         "encoding": {
          "color": {
           "field": "monks",
           "type": "nominal"
          },
          "text": {
           "field": "monks",
           "type": "nominal"
          },
          "tooltip": [
           {
            "field": "Likeness",
            "type": "quantitative"
           },
           {
            "field": "Dislikeness",
            "type": "quantitative"
           },
           {
            "field": "monks",
            "type": "nominal"
           }
          ],
          "x": {
           "field": "Likeness",
           "type": "quantitative"
          },
          "y": {
           "field": "Dislikeness",
           "type": "quantitative"
          }
         },
         "mark": {
          "align": "left",
          "baseline": "middle",
          "dx": 7,
          "size": 8,
          "type": "text"
         }
        }
       ]
      },
      "text/plain": [
       "<VegaLite 4 object>\n",
       "\n",
       "If you see this message, it means the renderer has not been properly enabled\n",
       "for the frontend that you are using. For more information, see\n",
       "https://altair-viz.github.io/user_guide/troubleshooting.html\n"
      ]
     },
     "execution_count": 230,
     "metadata": {},
     "output_type": "execute_result"
    }
   ],
   "source": [
    "points = alt.Chart(monk_features).mark_point().encode(\n",
    "    alt.X('Likeness'), alt.Y('Dislikeness'), alt.Color('monks'),\n",
    "    tooltip=['Likeness', 'Dislikeness', 'monks']\n",
    ")\n",
    "\n",
    "text = points.mark_text(\n",
    "    align='left',\n",
    "    baseline='middle',\n",
    "    dx=7,\n",
    "    size=8\n",
    ").encode(\n",
    "    text='monks'\n",
    ")\n",
    "\n",
    "points + text"
   ]
  }
 ],
 "metadata": {
  "kernelspec": {
   "display_name": "Python 3",
   "language": "python",
   "name": "python3"
  },
  "language_info": {
   "codemirror_mode": {
    "name": "ipython",
    "version": 3
   },
   "file_extension": ".py",
   "mimetype": "text/x-python",
   "name": "python",
   "nbconvert_exporter": "python",
   "pygments_lexer": "ipython3",
   "version": "3.11.0"
  },
  "orig_nbformat": 4,
  "vscode": {
   "interpreter": {
    "hash": "4fd05b4ab74bc1e9329e17be87942dac73398669b336473801cd3b358a7d8bbe"
   }
  }
 },
 "nbformat": 4,
 "nbformat_minor": 2
}
