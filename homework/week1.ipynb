{
 "cells": [
  {
   "cell_type": "markdown",
   "metadata": {},
   "source": [
    "# Week 1\n",
    "\n",
    "## Ex1\n",
    "Suppose the globe tossing data (Lecture 2, Chapter 2) had turned out to\n",
    "be 4 water and 11 land. Construct the posterior distribution."
   ]
  },
  {
   "cell_type": "code",
   "execution_count": 1,
   "metadata": {},
   "outputs": [
    {
     "data": {
      "text/plain": [
       "['W', 'W', 'W', 'W', 'L', 'L', 'L', 'L', 'L', 'L', 'L', 'L', 'L', 'L', 'L']"
      ]
     },
     "execution_count": 1,
     "metadata": {},
     "output_type": "execute_result"
    }
   ],
   "source": [
    "sample_data = [\"W\"] * 4 + [\"L\"] * 11"
   ]
  },
  {
   "cell_type": "code",
   "execution_count": 5,
   "metadata": {},
   "outputs": [
    {
     "data": {
      "text/plain": [
       "[<matplotlib.lines.Line2D at 0x7f2562496670>]"
      ]
     },
     "execution_count": 5,
     "metadata": {},
     "output_type": "execute_result"
    },
    {
     "data": {
      "image/png": "[encoded data removed]",
      "text/plain": [
       "<Figure size 432x288 with 1 Axes>"
      ]
     },
     "metadata": {
      "needs_background": "light"
     },
     "output_type": "display_data"
    }
   ],
   "source": [
    "from math import factorial\n",
    "import numpy as np\n",
    "from matplotlib import pyplot as plt\n",
    "\n",
    "def posterior(p):\n",
    "    L = sum([1 for x in sample_data if x == 'L'])\n",
    "    W = sum([1 for x in sample_data if x == 'W'])\n",
    "    prob = factorial(W + L + 1) / (factorial(L) * factorial(W)) * p ** W * (1 - p) ** L\n",
    "    return prob\n",
    "\n",
    "\n",
    "grid = np.linspace(0,1,1000)\n",
    "posterior_prob = [posterior(x) for x in grid]\n",
    "\n",
    "plt.plot(grid, posterior_prob)\n"
   ]
  },
  {
   "cell_type": "markdown",
   "metadata": {},
   "source": [
    "## Ex2\n",
    "\n",
    "Using the posterior distribution from 1, compute the posterior predictive distribution for the next 5 tosses of the same globe. I recommend you use the sampling method."
   ]
  },
  {
   "cell_type": "code",
   "execution_count": 48,
   "metadata": {},
   "outputs": [
    {
     "data": {
      "image/png": "[encoded data removed]",
      "text/plain": [
       "<Figure size 432x288 with 1 Axes>"
      ]
     },
     "metadata": {
      "needs_background": "light"
     },
     "output_type": "display_data"
    }
   ],
   "source": [
    "from collections import Counter\n",
    "\n",
    "def draw_from_posterior(n):\n",
    "    return np.random.default_rng().beta(a=4 + 1, b=11 + 1, size=n)\n",
    "\n",
    "def predictive_post(p, size):\n",
    "    return np.random.default_rng().choice(['W','L'], replace=True, p=[p, 1-p], size=size)\n",
    "\n",
    "\n",
    "draws = draw_from_posterior(10_000)\n",
    "samples = [predictive_post(p, size=5) for p in draws]\n",
    "\n",
    "count_W = [np.sum(s == 'W') for s in samples]\n",
    "\n",
    "x,y = zip(*Counter(count_W).items())\n",
    "\n",
    "p_y = [yi / sum(y) for yi in y]\n",
    "\n",
    "plt.bar(x, p_y)\n",
    "plt.title(\"Number of Waters within 5 next tosses\")\n",
    "plt.show()"
   ]
  },
  {
   "cell_type": "markdown",
   "metadata": {},
   "source": [
    "## Ex3\n",
    "\n",
    "Use the posterior predictive distribution from 2 to calculate the probability of 3 or more water samples in the next 5 tosses.\n"
   ]
  },
  {
   "cell_type": "code",
   "execution_count": 53,
   "metadata": {},
   "outputs": [
    {
     "name": "stdout",
     "output_type": "stream",
     "text": [
      "Probability is 0.186\n"
     ]
    }
   ],
   "source": [
    "rel_counts = sum([yi for (xi, yi) in zip(x,y) if xi >= 3])\n",
    "print(\"Probability is {:.3f}\".format(rel_counts / sum(y)))\n"
   ]
  },
  {
   "attachments": {},
   "cell_type": "markdown",
   "metadata": {},
   "source": [
    "## Ex4\n",
    "\n",
    "This problem is an optional challenge for people who are taking the course for a second or third time. Suppose you observe W = 5 water points, but you forgot to write down how many times the globe was\n",
    "tossed, so you don’t know the number of land points L. Assume that p = 0:7 and compute the posterior distribution of the number of tosses N. Hint: Use the binomial distribution\n"
   ]
  },
  {
   "cell_type": "code",
   "execution_count": 54,
   "metadata": {},
   "outputs": [
    {
     "data": {
      "text/plain": [
       "<BarContainer object of 15 artists>"
      ]
     },
     "execution_count": 54,
     "metadata": {},
     "output_type": "execute_result"
    },
    {
     "data": {
      "image/png": "[encoded data removed]",
      "text/plain": [
       "<Figure size 432x288 with 1 Axes>"
      ]
     },
     "metadata": {
      "needs_background": "light"
     },
     "output_type": "display_data"
    }
   ],
   "source": [
    "from scipy.stats import binom\n",
    "\n",
    "W = 5\n",
    "p = 0.7\n",
    "\n",
    "possible_N = range(5,20)\n",
    "n_prob = [binom.pmf(k=W, n=n, p=p) for n in possible_N]\n",
    "plt.bar(possible_N, n_prob)"
   ]
  }
 ],
 "metadata": {
  "kernelspec": {
   "display_name": "bayes",
   "language": "python",
   "name": "python3"
  },
  "language_info": {
   "codemirror_mode": {
    "name": "ipython",
    "version": 3
   },
   "file_extension": ".py",
   "mimetype": "text/x-python",
   "name": "python",
   "nbconvert_exporter": "python",
   "pygments_lexer": "ipython3",
   "version": "3.9.7"
  },
  "orig_nbformat": 4,
  "vscode": {
   "interpreter": {
    "hash": "3417433b47f048c6f514285e260b6e0d92d1e102a9367bd140fe5401936e0ff7"
   }
  }
 },
 "nbformat": 4,
 "nbformat_minor": 2
}
